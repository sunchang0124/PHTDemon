{
 "cells": [
  {
   "cell_type": "code",
   "execution_count": 1,
   "metadata": {},
   "outputs": [],
   "source": [
    "import time\n",
    "import pandas as pd\n",
    "import numpy as np\n",
    "import requests\n",
    "import json\n",
    "import ipywidgets as widgets\n",
    "from numpy.linalg import inv"
   ]
  },
  {
   "cell_type": "code",
   "execution_count": 2,
   "metadata": {},
   "outputs": [],
   "source": [
    "################################################################\n",
    "### At site B ###\n",
    "################################################################\n",
    "def start_at_B(X_b, C_seed, C_min, C_max, Sum_noises_A, B_divide_set): # df: import data in DataFrame Format\n",
    "    \n",
    "    np.random.seed(C_seed) # seeds, range of C_noises is shared between A and B \n",
    "    C_matrix = np.random.randint(C_min ,C_max , (len(Sum_noises_A), len(Sum_noises_A)))\n",
    "\n",
    "    Sum_coef_B = []\n",
    "    for j in range(0, len(Sum_noises_A)):\n",
    "        Sum_coef_B.append(np.dot(C_matrix[j].transpose(), X_b)) \n",
    "\n",
    "\n",
    "#     np.random.seed(0)\n",
    "    B_random_set = np.random.randint(C_min,C_max, int(len(X_b)/B_divide_set))\n",
    "\n",
    "                                 \n",
    "    B_random_inter = []\n",
    "    for j in range(0, len(B_random_set)): \n",
    "        for k in range(0, B_divide_set):\n",
    "            B_random_inter.append(B_random_set[j])\n",
    "\n",
    "    Sum_noises_B = np.array(Sum_coef_B) + np.array(B_random_inter)\n",
    "\n",
    "    # Add noises dataset A to the dataset B\n",
    "    Sum_noises_AB = np.dot(Sum_noises_A, X_b)\n",
    "\n",
    "    return np.array(B_random_set), np.array(Sum_noises_AB), np.array(Sum_noises_B)\n",
    "\n",
    "\n",
    "def Final_at_B(X_b, A_randoms_Sumset, Sum_noises_B_Arand, B_random_set, B_divide_set):\n",
    "\n",
    "    ### At site B ###\n",
    "    rand_sums = 0\n",
    "\n",
    "    for j in range(0, len(B_random_set)):\n",
    "        rand_sums = rand_sums + A_randoms_Sumset[j] * B_random_set[j]\n",
    "    \n",
    "    outcomes = Sum_noises_B_Arand + rand_sums\n",
    "\n",
    "    return outcomes"
   ]
  },
  {
   "cell_type": "code",
   "execution_count": 3,
   "metadata": {},
   "outputs": [],
   "source": [
    "style = {'description_width': 'initial'}\n",
    "uniLayout = widgets.Layout(width='50%', height='50px')\n",
    "\n",
    "Q0 = widgets.RadioButtons(\n",
    "    options=['No', 'Yes'],\n",
    "    description='1. Are you a meat lover?',\n",
    "    style=style, \n",
    "    layout=uniLayout\n",
    ")\n",
    "\n",
    "Q1 = widgets.RadioButtons(\n",
    "    options=['Hell No', 'YES!'],\n",
    "    description='2. Do you like pizza with pineapple on top?',\n",
    "    style=style, \n",
    "    layout=uniLayout\n",
    ")\n",
    "\n",
    "Q2 = widgets.RadioButtons(\n",
    "    options=['No', 'Yes'],\n",
    "    description='3. Do you add sugar in coffee?',\n",
    "    style=style, \n",
    "    layout=uniLayout\n",
    ")\n",
    "\n",
    "Q3 = widgets.RadioButtons(\n",
    "    options=['No, only salt', 'Tons of sauce'],\n",
    "    description='4. Do you eat fries with sauce?',\n",
    "    style=style, \n",
    "    layout=uniLayout\n",
    ")\n",
    "\n",
    "Q4 = widgets.RadioButtons(\n",
    "    options=['Never drink it', 'LOVE it'],\n",
    "    description='5. Do you like Dutch beer?',\n",
    "    style=style, \n",
    "    layout=uniLayout\n",
    ")\n",
    "\n",
    "Q5 = widgets.RadioButtons(\n",
    "    options=['Nope', 'Sure, what else?'],\n",
    "    description='6. Do you frequently eat potatoes?',\n",
    "    style=style, \n",
    "    layout=uniLayout\n",
    ")\n",
    "\n",
    "Q6 = widgets.RadioButtons(\n",
    "    options=['Nope', 'Of course'],\n",
    "    description='7. Do you like Vlaai?',\n",
    "    style=style, \n",
    "    layout=uniLayout\n",
    ")\n",
    "\n",
    "Q7 = widgets.RadioButtons(\n",
    "    options=['Hate it', 'Enjoy a lot!'],\n",
    "    description='8. Do you like cooking?',\n",
    "    style=style, \n",
    "    layout=uniLayout\n",
    ")"
   ]
  },
  {
   "cell_type": "code",
   "execution_count": 4,
   "metadata": {},
   "outputs": [
    {
     "data": {
      "application/vnd.jupyter.widget-view+json": {
       "model_id": "f4e785087d894018a1149fad89da493d",
       "version_major": 2,
       "version_minor": 0
      },
      "text/plain": [
       "RadioButtons(description='1. Are you a meat lover?', layout=Layout(height='50px', width='50%'), options=('No',…"
      ]
     },
     "metadata": {},
     "output_type": "display_data"
    },
    {
     "data": {
      "application/vnd.jupyter.widget-view+json": {
       "model_id": "bf54c770522f437fa82d319e657ae166",
       "version_major": 2,
       "version_minor": 0
      },
      "text/plain": [
       "RadioButtons(description='2. Do you like pizza with pineapple on top?', layout=Layout(height='50px', width='50…"
      ]
     },
     "metadata": {},
     "output_type": "display_data"
    },
    {
     "data": {
      "application/vnd.jupyter.widget-view+json": {
       "model_id": "23331cc2b80a4ab38787a9ab8be84990",
       "version_major": 2,
       "version_minor": 0
      },
      "text/plain": [
       "RadioButtons(description='3. Do you add sugar in coffee?', layout=Layout(height='50px', width='50%'), options=…"
      ]
     },
     "metadata": {},
     "output_type": "display_data"
    },
    {
     "data": {
      "application/vnd.jupyter.widget-view+json": {
       "model_id": "b3c47d70cd1e4f2a957b4198d0c64bae",
       "version_major": 2,
       "version_minor": 0
      },
      "text/plain": [
       "RadioButtons(description='4. Do you eat fries with sauce?', layout=Layout(height='50px', width='50%'), options…"
      ]
     },
     "metadata": {},
     "output_type": "display_data"
    },
    {
     "data": {
      "application/vnd.jupyter.widget-view+json": {
       "model_id": "e1b5d19b5eb145b8bbd74633be6a5f32",
       "version_major": 2,
       "version_minor": 0
      },
      "text/plain": [
       "RadioButtons(description='5. Do you like Dutch beer?', layout=Layout(height='50px', width='50%'), options=('Ne…"
      ]
     },
     "metadata": {},
     "output_type": "display_data"
    },
    {
     "data": {
      "application/vnd.jupyter.widget-view+json": {
       "model_id": "ccf48d5c1bac445b8c1e3547899f1483",
       "version_major": 2,
       "version_minor": 0
      },
      "text/plain": [
       "RadioButtons(description='6. Do you frequently eat potatoes?', layout=Layout(height='50px', width='50%'), opti…"
      ]
     },
     "metadata": {},
     "output_type": "display_data"
    },
    {
     "data": {
      "application/vnd.jupyter.widget-view+json": {
       "model_id": "326221b46bec4d17909a5b9f5a44a87a",
       "version_major": 2,
       "version_minor": 0
      },
      "text/plain": [
       "RadioButtons(description='7. Do you like Vlaai?', layout=Layout(height='50px', width='50%'), options=('Nope', …"
      ]
     },
     "metadata": {},
     "output_type": "display_data"
    },
    {
     "data": {
      "application/vnd.jupyter.widget-view+json": {
       "model_id": "f2a36e1c3e5d4d3484342d3708e1ec1e",
       "version_major": 2,
       "version_minor": 0
      },
      "text/plain": [
       "RadioButtons(description='8. Do you like cooking?', layout=Layout(height='50px', width='50%'), options=('Hate …"
      ]
     },
     "metadata": {},
     "output_type": "display_data"
    }
   ],
   "source": [
    "display(Q0, Q1, Q2, Q3, Q4, Q5, Q6, Q7)"
   ]
  },
  {
   "cell_type": "markdown",
   "metadata": {},
   "source": [
    "### Receive the message from party A ###"
   ]
  },
  {
   "cell_type": "code",
   "execution_count": 5,
   "metadata": {},
   "outputs": [
    {
     "data": {
      "application/vnd.jupyter.widget-view+json": {
       "model_id": "af40d0da2f4a40e997c12d7831345fa3",
       "version_major": 2,
       "version_minor": 0
      },
      "text/plain": [
       "Text(value='Should be an array', description='Received message 1 from Party A', layout=Layout(height='50px', w…"
      ]
     },
     "metadata": {},
     "output_type": "display_data"
    }
   ],
   "source": [
    "msg1_fromB = widgets.Text(value='Should be an array',description='Received message 1 from Party A', style=style, layout=uniLayout)\n",
    "display(msg1_fromB)\n",
    "\n"
   ]
  },
  {
   "cell_type": "code",
   "execution_count": 6,
   "metadata": {},
   "outputs": [
    {
     "name": "stdout",
     "output_type": "stream",
     "text": [
      "55\n",
      "[ 4 10  4  4  2  6  3  4]\n"
     ]
    }
   ],
   "source": [
    "C_seed = 1\n",
    "C_min = 0\n",
    "C_max = 5\n",
    "B_divide_set = 4\n",
    "Sum_noises_A = [int(i) for i in msg1_fromB.value.split(' ')]\n",
    "\n",
    "X_b = np.array([Q0.index,Q1.index,Q2.index,Q3.index,Q4.index,Q5.index,Q6.index,Q7.index])\n",
    "B_random_set, Sum_noises_AB, Sum_noises_B = start_at_B(X_b, C_seed, C_min, C_max, Sum_noises_A, B_divide_set)\n",
    "# print(B_random_set)\n",
    "print(Sum_noises_AB)\n",
    "print(Sum_noises_B)"
   ]
  },
  {
   "cell_type": "code",
   "execution_count": null,
   "metadata": {},
   "outputs": [],
   "source": [
    "############ Wait for inputs from Party A ##################"
   ]
  },
  {
   "cell_type": "code",
   "execution_count": 7,
   "metadata": {},
   "outputs": [
    {
     "data": {
      "application/vnd.jupyter.widget-view+json": {
       "model_id": "78f2f1c81d39436489b3615293124c90",
       "version_major": 2,
       "version_minor": 0
      },
      "text/plain": [
       "BoundedIntText(value=0, description='Received message 2 from Party A', layout=Layout(height='50px', width='50%…"
      ]
     },
     "metadata": {},
     "output_type": "display_data"
    },
    {
     "data": {
      "application/vnd.jupyter.widget-view+json": {
       "model_id": "e4d1f8646da84c2fae28825460593474",
       "version_major": 2,
       "version_minor": 0
      },
      "text/plain": [
       "Text(value='Should be an array', description='Received message 3 from Party A', layout=Layout(height='50px', w…"
      ]
     },
     "metadata": {},
     "output_type": "display_data"
    }
   ],
   "source": [
    "msg1_fromA = widgets.BoundedIntText(value='0',min=-10000, max=1000000,\\\n",
    "            description='Received message 2 from Party A', style=style, layout=uniLayout)\n",
    "msg2_fromA = msg1_fromB = widgets.Text(value='Should be an array',description='Received message 3 from Party A', style=style, layout=uniLayout)\n",
    "display(msg1_fromA, msg2_fromA)\n",
    "\n"
   ]
  },
  {
   "cell_type": "code",
   "execution_count": 9,
   "metadata": {},
   "outputs": [
    {
     "name": "stdout",
     "output_type": "stream",
     "text": [
      "Common interests: 2\n"
     ]
    }
   ],
   "source": [
    "Sum_noises_B_Arand = msg1_fromA.value\n",
    "A_randoms_Sumset = [int(i) for i in msg2_fromA.value.split(' ')]\n",
    "\n",
    "outcome = Final_at_B(X_b, A_randoms_Sumset, Sum_noises_B_Arand, B_random_set, B_divide_set)\n",
    "print('Common interests:', outcome)"
   ]
  },
  {
   "cell_type": "code",
   "execution_count": null,
   "metadata": {},
   "outputs": [],
   "source": []
  },
  {
   "cell_type": "code",
   "execution_count": null,
   "metadata": {},
   "outputs": [],
   "source": [
    "# X_a = []\n",
    "# np.dot(np.array(X_a), np.array(X_b))"
   ]
  },
  {
   "cell_type": "code",
   "execution_count": null,
   "metadata": {},
   "outputs": [],
   "source": []
  }
 ],
 "metadata": {
  "kernelspec": {
   "display_name": "Python 3",
   "language": "python",
   "name": "python3"
  },
  "language_info": {
   "codemirror_mode": {
    "name": "ipython",
    "version": 3
   },
   "file_extension": ".py",
   "mimetype": "text/x-python",
   "name": "python",
   "nbconvert_exporter": "python",
   "pygments_lexer": "ipython3",
   "version": "3.6.8"
  }
 },
 "nbformat": 4,
 "nbformat_minor": 2
}
