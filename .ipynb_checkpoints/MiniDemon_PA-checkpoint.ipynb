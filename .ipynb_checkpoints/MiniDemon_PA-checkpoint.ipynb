{
 "cells": [
  {
   "cell_type": "code",
   "execution_count": 2,
   "metadata": {},
   "outputs": [],
   "source": [
    "import time\n",
    "import pandas as pd\n",
    "import numpy as np\n",
    "import requests\n",
    "import json\n",
    "import ipywidgets as widgets\n",
    "from numpy.linalg import inv"
   ]
  },
  {
   "cell_type": "code",
   "execution_count": 3,
   "metadata": {},
   "outputs": [],
   "source": [
    "### Start at A ###\n",
    "def start_at_A(X_a, C_seed, C_min, C_max): # df: import data in DataFrame Format\n",
    "\n",
    "    # Generate random numbers and add to data at Data Site A\n",
    "#     np.random.seed(0)\n",
    "    A_randoms = np.random.randint(C_min, C_max, len(X_a))\n",
    "        \n",
    "    # C_noises is shared between A and B \n",
    "    np.random.seed(C_seed)\n",
    "    C_matrix = np.random.randint(C_min, C_max, (len(X_a), len(X_a)))\n",
    "\n",
    "    Sum_noises_A = np.add(X_a, np.dot(C_matrix.transpose(), A_randoms)) # which will be sent to B\n",
    "\n",
    "    return np.array(A_randoms), np.array(Sum_noises_A), \n",
    "\n",
    "def communication_at_A(X_a, A_randoms, Sum_noises_AB, Sum_noises_B, B_divide_set):\n",
    "    \n",
    "    ### At site A ###\n",
    "    A_randoms_Sumset = []\n",
    "\n",
    "    for j in range(0, int(len(X_a)/B_divide_set)):\n",
    "        temp = 0\n",
    "        for k in range(0, B_divide_set):\n",
    "            temp = temp + A_randoms[B_divide_set*j + k]\n",
    "        A_randoms_Sumset.append(temp)\n",
    "    \n",
    "    Sum_noises_B_Arand = np.subtract(Sum_noises_AB, np.dot(A_randoms,Sum_noises_B))\n",
    "\n",
    "    # Calculate X_a.T * X_a locally at data site A \n",
    "    XaTXa = np.matrix(X_a).T * np.matrix(X_a)\n",
    "\n",
    "    \n",
    "    return np.array(A_randoms_Sumset), np.array(Sum_noises_B_Arand), np.array(XaTXa)"
   ]
  },
  {
   "cell_type": "code",
   "execution_count": 4,
   "metadata": {},
   "outputs": [],
   "source": [
    "style = {'description_width': 'initial'}\n",
    "uniLayout = widgets.Layout(width='50%', height='50px')\n",
    "\n",
    "Q0 = widgets.RadioButtons(\n",
    "    options=['Meat lover', 'Vegetarian'],\n",
    "    description='You are a:',\n",
    "    style=style, \n",
    "    layout=uniLayout\n",
    ")\n",
    "\n",
    "Q1 = widgets.RadioButtons(\n",
    "    options=['Pineapple', 'Anything except pineapple!'],\n",
    "    description='Your like pizza with:',\n",
    "    style=style, \n",
    "    layout=uniLayout\n",
    ")\n",
    "\n",
    "Q2 = widgets.RadioButtons(\n",
    "    options=['Without milk', 'Full of milk'],\n",
    "    description='You like coffee:',\n",
    "    style=style, \n",
    "    layout=uniLayout\n",
    ")\n",
    "\n",
    "Q3 = widgets.RadioButtons(\n",
    "    options=['Ketchup', 'Mayonnaise'],\n",
    "    description='Your favorite fries sauce:',\n",
    "    style=style, \n",
    "    layout=uniLayout\n",
    ")\n",
    "\n",
    "Q4 = widgets.RadioButtons(\n",
    "    options=['Vlaai', 'Stroopwafel'],\n",
    "    description='Your favorite Dutch dessert:',\n",
    "    style=style, \n",
    "    layout=uniLayout\n",
    ")\n",
    "\n",
    "Q5 = widgets.RadioButtons(\n",
    "    options=['German', 'Netherlands'],\n",
    "    description='You like beer from:',\n",
    "    style=style, \n",
    "    layout=uniLayout\n",
    ")"
   ]
  },
  {
   "cell_type": "code",
   "execution_count": 5,
   "metadata": {},
   "outputs": [
    {
     "data": {
      "application/vnd.jupyter.widget-view+json": {
       "model_id": "f6aa0798259848239ee140a7a0d529ee",
       "version_major": 2,
       "version_minor": 0
      },
      "text/plain": [
       "RadioButtons(description='You are a:', layout=Layout(height='50px', width='50%'), options=('Meat lover', 'Vege…"
      ]
     },
     "metadata": {},
     "output_type": "display_data"
    },
    {
     "data": {
      "application/vnd.jupyter.widget-view+json": {
       "model_id": "9161153580314267ae343504c5de2a3e",
       "version_major": 2,
       "version_minor": 0
      },
      "text/plain": [
       "RadioButtons(description='Your like pizza with:', layout=Layout(height='50px', width='50%'), options=('Pineapp…"
      ]
     },
     "metadata": {},
     "output_type": "display_data"
    },
    {
     "data": {
      "application/vnd.jupyter.widget-view+json": {
       "model_id": "a932b5f375e844c09e2491c9c2e725a0",
       "version_major": 2,
       "version_minor": 0
      },
      "text/plain": [
       "RadioButtons(description='You like coffee:', layout=Layout(height='50px', width='50%'), options=('Without milk…"
      ]
     },
     "metadata": {},
     "output_type": "display_data"
    },
    {
     "data": {
      "application/vnd.jupyter.widget-view+json": {
       "model_id": "af2ef98acd8e444b8c304de8d3dd7dcd",
       "version_major": 2,
       "version_minor": 0
      },
      "text/plain": [
       "RadioButtons(description='Your favorite fries sauce:', layout=Layout(height='50px', width='50%'), options=('Ke…"
      ]
     },
     "metadata": {},
     "output_type": "display_data"
    },
    {
     "data": {
      "application/vnd.jupyter.widget-view+json": {
       "model_id": "dcdeec8e466347e9b9c25bae250fe187",
       "version_major": 2,
       "version_minor": 0
      },
      "text/plain": [
       "RadioButtons(description='Your favorite Dutch dessert:', layout=Layout(height='50px', width='50%'), options=('…"
      ]
     },
     "metadata": {},
     "output_type": "display_data"
    },
    {
     "data": {
      "application/vnd.jupyter.widget-view+json": {
       "model_id": "4e2c99bab47c4f7f9848fda2bf9943a2",
       "version_major": 2,
       "version_minor": 0
      },
      "text/plain": [
       "RadioButtons(description='You like beer from:', layout=Layout(height='50px', width='50%'), options=('German', …"
      ]
     },
     "metadata": {},
     "output_type": "display_data"
    }
   ],
   "source": [
    "display(Q0, Q1, Q2, Q3, Q4, Q5)"
   ]
  },
  {
   "cell_type": "code",
   "execution_count": 6,
   "metadata": {},
   "outputs": [
    {
     "name": "stdout",
     "output_type": "stream",
     "text": [
      "[30 22 24 19 23 24]\n"
     ]
    }
   ],
   "source": [
    "C_seed = 1\n",
    "C_min = 0\n",
    "C_max = 5\n",
    "B_divide_set = 3\n",
    "X_a = np.array([Q0.index,Q1.index,Q2.index,Q3.index,Q4.index,Q5.index])\n",
    "A_randoms, Sum_noises_A = start_at_A(X_a, C_seed, C_min, C_max)\n",
    "# print(X_a)\n",
    "# print(A_randoms)\n",
    "print(Sum_noises_A)"
   ]
  },
  {
   "cell_type": "code",
   "execution_count": null,
   "metadata": {},
   "outputs": [],
   "source": [
    "############ Wait for inputs from Party B ##################"
   ]
  },
  {
   "cell_type": "code",
   "execution_count": 7,
   "metadata": {},
   "outputs": [],
   "source": [
    "Sum_noises_AB = 76\n",
    "Sum_noises_B = [7, 5, 10, 13, 6, 4]"
   ]
  },
  {
   "cell_type": "code",
   "execution_count": 8,
   "metadata": {},
   "outputs": [
    {
     "name": "stdout",
     "output_type": "stream",
     "text": [
      "[6 5]\n",
      "-15\n"
     ]
    }
   ],
   "source": [
    "A_randoms_Sumset, Sum_noises_B_Arand, XaTXa = communication_at_A(X_a, A_randoms, \\\n",
    "                                                                 Sum_noises_AB, Sum_noises_B, B_divide_set)\n",
    "print(A_randoms_Sumset)\n",
    "print(Sum_noises_B_Arand)"
   ]
  },
  {
   "cell_type": "code",
   "execution_count": null,
   "metadata": {},
   "outputs": [],
   "source": []
  }
 ],
 "metadata": {
  "kernelspec": {
   "display_name": "Python 3",
   "language": "python",
   "name": "python3"
  },
  "language_info": {
   "codemirror_mode": {
    "name": "ipython",
    "version": 3
   },
   "file_extension": ".py",
   "mimetype": "text/x-python",
   "name": "python",
   "nbconvert_exporter": "python",
   "pygments_lexer": "ipython3",
   "version": "3.6.8"
  }
 },
 "nbformat": 4,
 "nbformat_minor": 2
}
