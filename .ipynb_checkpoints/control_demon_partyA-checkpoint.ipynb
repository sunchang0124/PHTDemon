{
 "cells": [
  {
   "cell_type": "markdown",
   "metadata": {},
   "source": [
    "# FAIRHealth PHT PPDML"
   ]
  },
  {
   "cell_type": "code",
   "execution_count": 5,
   "metadata": {},
   "outputs": [],
   "source": [
    "import requests\n",
    "import json\n",
    "import uuid\n",
    "import time\n",
    "signalStation = \"http://vwdata.personalhealthtrain.net\"\n",
    "\n",
    "def getStations(signalStation):\n",
    "    response = requests.get(signalStation + \"/client\")\n",
    "    return json.loads(response.text)\n",
    "\n",
    "def defineTrain(image, inputVars, runId):\n",
    "    return {\n",
    "        \"image\": image,\n",
    "        \"inputString\": (\"%s\" % json.dumps(inputVars)),\n",
    "        \"runId\": runId\n",
    "    }\n",
    "\n",
    "def requestExecution(signalStation, clientId, taskDescription):\n",
    "    response = requests.post(signalStation + \"/client/\" + str(clientId) + \"/task/add\", json=taskDescription)\n",
    "    taskId = json.loads(response.text)[\"taskId\"]\n",
    "    return taskId\n",
    "\n",
    "def getExecutionResult(signalStation, clientId, taskId, wait=True):\n",
    "    url = signalStation + \"/client/\" + str(clientId) + \"/task/\" + str(taskId) + \"/result\"\n",
    "    print(url)\n",
    "    jsonResult = json.loads(requests.get(url).text)\n",
    "    \n",
    "    while len(jsonResult)==0 & wait:\n",
    "        time.sleep(2)\n",
    "        jsonResult = json.loads(requests.get(url).text)\n",
    "    \n",
    "    return jsonResult"
   ]
  },
  {
   "cell_type": "markdown",
   "metadata": {},
   "source": [
    "## Set up for two data stations (two parties)"
   ]
  },
  {
   "cell_type": "code",
   "execution_count": 4,
   "metadata": {},
   "outputs": [
    {
     "ename": "NameError",
     "evalue": "name 'getStations' is not defined",
     "output_type": "error",
     "traceback": [
      "\u001b[0;31m---------------------------------------------------------------------------\u001b[0m",
      "\u001b[0;31mNameError\u001b[0m                                 Traceback (most recent call last)",
      "\u001b[0;32m<ipython-input-4-74b1adfc5c30>\u001b[0m in \u001b[0;36m<module>\u001b[0;34m()\u001b[0m\n\u001b[1;32m      3\u001b[0m \u001b[0mImage\u001b[0m\u001b[0;34m(\u001b[0m\u001b[0murl\u001b[0m\u001b[0;34m=\u001b[0m \u001b[0;34m\"https://github.com/sunchang0124/PHTDemon/blob/master/Pics/demonPic1.png?raw=true\"\u001b[0m\u001b[0;34m,\u001b[0m \u001b[0mwidth\u001b[0m\u001b[0;34m=\u001b[0m\u001b[0;36m600\u001b[0m\u001b[0;34m,\u001b[0m \u001b[0mheight\u001b[0m\u001b[0;34m=\u001b[0m\u001b[0;36m600\u001b[0m\u001b[0;34m)\u001b[0m\u001b[0;34m\u001b[0m\u001b[0;34m\u001b[0m\u001b[0m\n\u001b[1;32m      4\u001b[0m \u001b[0;34m\u001b[0m\u001b[0m\n\u001b[0;32m----> 5\u001b[0;31m \u001b[0mgetStations\u001b[0m\u001b[0;34m(\u001b[0m\u001b[0msignalStation\u001b[0m\u001b[0;34m)\u001b[0m\u001b[0;34m\u001b[0m\u001b[0;34m\u001b[0m\u001b[0m\n\u001b[0m\u001b[1;32m      6\u001b[0m \u001b[0;31m# print('You are data party A')\u001b[0m\u001b[0;34m\u001b[0m\u001b[0;34m\u001b[0m\u001b[0;34m\u001b[0m\u001b[0m\n",
      "\u001b[0;31mNameError\u001b[0m: name 'getStations' is not defined"
     ]
    }
   ],
   "source": [
    "from IPython.display import Image\n",
    "from IPython.core.display import HTML \n",
    "Image(url= \"https://github.com/sunchang0124/PHTDemon/blob/master/Pics/demonPic1.png?raw=true\", width=600, height=600)\n",
    "\n",
    "getStations(signalStation)\n",
    "# print('You are data party A')"
   ]
  },
  {
   "cell_type": "code",
   "execution_count": 18,
   "metadata": {},
   "outputs": [
    {
     "data": {
      "text/plain": [
       "[{'country': 'The Netherlands',\n",
       "  'email': 'johan.vansoest@maastro.nl',\n",
       "  'id': 1,\n",
       "  'institute': 'Maastricht University',\n",
       "  'ip': '192.168.96.1',\n",
       "  'last_seen': '2019-05-28 12:26:24.944052',\n",
       "  'name': 'The Maastricht Study'},\n",
       " {'country': 'Netherlands',\n",
       "  'email': 'johan.vansoest@maastro.nl',\n",
       "  'id': 2,\n",
       "  'institute': 'MAASTRO Clinic',\n",
       "  'ip': '192.168.96.1',\n",
       "  'last_seen': '2019-05-28 12:26:24.023057',\n",
       "  'name': 'VWData Station Maastro'}]"
      ]
     },
     "execution_count": 18,
     "metadata": {},
     "output_type": "execute_result"
    }
   ],
   "source": []
  },
  {
   "cell_type": "markdown",
   "metadata": {},
   "source": [
    "## This is Data party A "
   ]
  },
  {
   "cell_type": "markdown",
   "metadata": {},
   "source": [
    "### Read data and define your \"train\" (application)"
   ]
  },
  {
   "cell_type": "code",
   "execution_count": 12,
   "metadata": {},
   "outputs": [],
   "source": [
    "inputData = {\n",
    "    \"stage\": 1\n",
    "}\n",
    "myTrain = defineTrain(\"sophia921025/ppdml_demon\", inputData, 1)"
   ]
  },
  {
   "cell_type": "markdown",
   "metadata": {},
   "source": [
    "### Execute the train on client"
   ]
  },
  {
   "cell_type": "code",
   "execution_count": 13,
   "metadata": {},
   "outputs": [
    {
     "name": "stdout",
     "output_type": "stream",
     "text": [
      "Task submitted with ID: 140\n"
     ]
    }
   ],
   "source": [
    "clientId = 1\n",
    "taskId = requestExecution(signalStation, clientId, myTrain)\n",
    "print(\"Task submitted with ID: %s\" % taskId)"
   ]
  },
  {
   "cell_type": "markdown",
   "metadata": {},
   "source": [
    "### Write results for communicating"
   ]
  },
  {
   "cell_type": "code",
   "execution_count": 14,
   "metadata": {},
   "outputs": [
    {
     "name": "stdout",
     "output_type": "stream",
     "text": [
      "http://vwdata.personalhealthtrain.net/client/1/task/140/result\n",
      "Stage: 1\n",
      "https://raw.githubusercontent.com/sunchang0124/PPDML/master/Privacy-preserving%20bayesians/preprocessed_dataFile_A.csv\n",
      "\r\n",
      "\r\n",
      "=======================INTERNAL FILE LOG===================== \r\n",
      "\n",
      "dict_keys(['sumNoiseBytes'])\n"
     ]
    }
   ],
   "source": [
    "results = getExecutionResult(signalStation, clientId, taskId)\n",
    "print(results[0][\"log\"])\n",
    "result = json.loads(results[0][\"response\"])\n",
    "print(result.keys())"
   ]
  },
  {
   "cell_type": "markdown",
   "metadata": {},
   "source": [
    "## Stage 2 at CBS/Maastro endpoint"
   ]
  },
  {
   "cell_type": "code",
   "execution_count": null,
   "metadata": {},
   "outputs": [],
   "source": [
    "# result[\"stage\"] = 2\n",
    "# mySecondTrain = defineTrain(\"sophia921025/ppdml_demon\", result, 1)"
   ]
  },
  {
   "cell_type": "code",
   "execution_count": null,
   "metadata": {},
   "outputs": [],
   "source": [
    "# clientId = 2\n",
    "# taskId = requestExecution(signalStation, clientId, mySecondTrain)\n",
    "# print(\"Task submitted with ID: %s\" % taskId)"
   ]
  },
  {
   "cell_type": "code",
   "execution_count": 6,
   "metadata": {},
   "outputs": [
    {
     "name": "stdout",
     "output_type": "stream",
     "text": [
      "http://vwdata.personalhealthtrain.net/client/2/task/137/result\n",
      "Stage: 2\n",
      "\n",
      "\n",
      "=======================INTERNAL FILE LOG===================== \n",
      "\n",
      "dict_keys(['sumNoisesAB', 'sumNoisesB'])\n"
     ]
    }
   ],
   "source": [
    "clientId = 2\n",
    "taskId = 137\n",
    "resultsSecond = getExecutionResult(signalStation, clientId, taskId)\n",
    "print(resultsSecond[0][\"log\"])\n",
    "resultSecond = json.loads(resultsSecond[0][\"response\"])\n",
    "print(resultSecond.keys())\n",
    "\n",
    "sumNoisesAB = resultSecond[\"sumNoisesAB\"]"
   ]
  },
  {
   "cell_type": "markdown",
   "metadata": {},
   "source": [
    "## Stage 3 at DMS"
   ]
  },
  {
   "cell_type": "code",
   "execution_count": 7,
   "metadata": {},
   "outputs": [],
   "source": [
    "resultSecond[\"stage\"] = 3\n",
    "myThirdTrain = defineTrain(\"sophia921025/fairhealth_test\", resultSecond, 1)"
   ]
  },
  {
   "cell_type": "code",
   "execution_count": 8,
   "metadata": {},
   "outputs": [
    {
     "name": "stdout",
     "output_type": "stream",
     "text": [
      "Task submitted with ID: 138\n"
     ]
    }
   ],
   "source": [
    "clientId = 1\n",
    "taskId = requestExecution(signalStation, clientId, myThirdTrain)\n",
    "print(\"Task submitted with ID: %s\" % taskId)"
   ]
  },
  {
   "cell_type": "code",
   "execution_count": 9,
   "metadata": {},
   "outputs": [
    {
     "name": "stdout",
     "output_type": "stream",
     "text": [
      "http://vwdata.personalhealthtrain.net/client/1/task/138/result\n",
      "Stage: 3\n",
      "\n",
      "\n",
      "=======================INTERNAL FILE LOG===================== \n",
      "\n",
      "dict_keys(['randomsSumSet', 'sumNoisesBARand', 'XaTXa'])\n"
     ]
    }
   ],
   "source": [
    "resultsThird = getExecutionResult(signalStation, clientId, taskId)\n",
    "print(resultsThird[0][\"log\"])\n",
    "resultThird = json.loads(resultsThird[0][\"response\"])\n",
    "print(resultThird.keys())"
   ]
  },
  {
   "cell_type": "markdown",
   "metadata": {},
   "source": [
    "## Stage 4 at CBS/Maastro"
   ]
  },
  {
   "cell_type": "code",
   "execution_count": null,
   "metadata": {},
   "outputs": [],
   "source": [
    "resultThird[\"stage\"] = 4\n",
    "resultThird[\"sumNoisesAB\"] = sumNoisesAB\n",
    "myFourthTrain = defineTrain(\"sophia921025/fairhealth_test\", resultThird, 1)\n",
    "print(resultThird.keys())"
   ]
  },
  {
   "cell_type": "code",
   "execution_count": null,
   "metadata": {},
   "outputs": [],
   "source": [
    "clientId = 2\n",
    "taskId = requestExecution(signalStation, clientId, myFourthTrain)\n",
    "print(\"Task submitted with ID: %s\" % taskId)"
   ]
  },
  {
   "cell_type": "code",
   "execution_count": null,
   "metadata": {},
   "outputs": [],
   "source": [
    "resultsFourth = getExecutionResult(signalStation, clientId, taskId)\n",
    "print(resultsFourth[0][\"log\"])\n",
    "resultFourth = json.loads(resultsFourth[0][\"response\"])"
   ]
  },
  {
   "cell_type": "code",
   "execution_count": null,
   "metadata": {},
   "outputs": [],
   "source": [
    "resultFourth"
   ]
  },
  {
   "cell_type": "code",
   "execution_count": null,
   "metadata": {},
   "outputs": [],
   "source": []
  }
 ],
 "metadata": {
  "kernelspec": {
   "display_name": "Python 3",
   "language": "python",
   "name": "python3"
  },
  "language_info": {
   "codemirror_mode": {
    "name": "ipython",
    "version": 3
   },
   "file_extension": ".py",
   "mimetype": "text/x-python",
   "name": "python",
   "nbconvert_exporter": "python",
   "pygments_lexer": "ipython3",
   "version": "3.6.8"
  }
 },
 "nbformat": 4,
 "nbformat_minor": 2
}
