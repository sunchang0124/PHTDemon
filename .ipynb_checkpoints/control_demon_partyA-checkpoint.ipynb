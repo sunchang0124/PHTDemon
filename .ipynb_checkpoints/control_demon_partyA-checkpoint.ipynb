{
 "cells": [
  {
   "cell_type": "markdown",
   "metadata": {},
   "source": [
    "# FAIRHealth PHT PPDML"
   ]
  },
  {
   "cell_type": "code",
   "execution_count": 1,
   "metadata": {},
   "outputs": [],
   "source": [
    "import requests\n",
    "import json\n",
    "import uuid\n",
    "import time\n",
    "from IPython.display import Image\n",
    "from IPython.core.display import HTML \n",
    "\n",
    "import ipywidgets as widgets\n",
    "from ipywidgets import interact, interactive, interact_manual, Layout, Button\n",
    "\n",
    "signalStation = \"http://vwdata.personalhealthtrain.net\"\n",
    "\n",
    "def getStations(signalStation):\n",
    "    response = requests.get(signalStation + \"/client\")\n",
    "    return json.loads(response.text)\n",
    "\n",
    "def defineTrain(image, inputVars, runId):\n",
    "    return {\n",
    "        \"image\": image,\n",
    "        \"inputString\": (\"%s\" % json.dumps(inputVars)),\n",
    "        \"runId\": runId\n",
    "    }\n",
    "\n",
    "def requestExecution(signalStation, clientId, taskDescription):\n",
    "    response = requests.post(signalStation + \"/client/\" + str(clientId) + \"/task/add\", json=taskDescription)\n",
    "    taskId = json.loads(response.text)[\"taskId\"]\n",
    "    return taskId\n",
    "\n",
    "def getExecutionResult(signalStation, clientId, taskId, wait=True):\n",
    "    url = signalStation + \"/client/\" + str(clientId) + \"/task/\" + str(taskId) + \"/result\"\n",
    "    print(url)\n",
    "    jsonResult = json.loads(requests.get(url).text)\n",
    "    \n",
    "    while len(jsonResult)==0 & wait:\n",
    "        time.sleep(2)\n",
    "        jsonResult = json.loads(requests.get(url).text)\n",
    "    \n",
    "    return jsonResult"
   ]
  },
  {
   "cell_type": "markdown",
   "metadata": {},
   "source": [
    "## Set up for two data stations (two parties)"
   ]
  },
  {
   "cell_type": "code",
   "execution_count": 2,
   "metadata": {},
   "outputs": [
    {
     "data": {
      "text/html": [
       "<img src=\"https://github.com/sunchang0124/PHTDemon/blob/master/Pics/demonPic2.png?raw=true\" width=\"600\" height=\"600\"/>"
      ],
      "text/plain": [
       "<IPython.core.display.Image object>"
      ]
     },
     "execution_count": 2,
     "metadata": {},
     "output_type": "execute_result"
    }
   ],
   "source": [
    "Image(url= \"https://github.com/sunchang0124/PHTDemon/blob/master/Pics/demonPic2.png?raw=true\", width=600, height=600)"
   ]
  },
  {
   "cell_type": "code",
   "execution_count": 3,
   "metadata": {},
   "outputs": [
    {
     "data": {
      "text/plain": [
       "[{'country': 'The Netherlands',\n",
       "  'email': 'johan.vansoest@maastro.nl',\n",
       "  'id': 1,\n",
       "  'institute': 'Maastricht University',\n",
       "  'ip': '192.168.96.1',\n",
       "  'last_seen': '2019-05-29 10:58:43.386211',\n",
       "  'name': 'The Maastricht Study'},\n",
       " {'country': 'Netherlands',\n",
       "  'email': 'johan.vansoest@maastro.nl',\n",
       "  'id': 2,\n",
       "  'institute': 'MAASTRO Clinic',\n",
       "  'ip': '192.168.96.1',\n",
       "  'last_seen': '2019-05-29 10:58:44.198931',\n",
       "  'name': 'VWData Station Maastro'}]"
      ]
     },
     "execution_count": 3,
     "metadata": {},
     "output_type": "execute_result"
    }
   ],
   "source": [
    "getStations(signalStation)"
   ]
  },
  {
   "cell_type": "markdown",
   "metadata": {},
   "source": [
    "## This is Data party A "
   ]
  },
  {
   "cell_type": "code",
   "execution_count": 4,
   "metadata": {},
   "outputs": [],
   "source": [
    "def stage_A1(event):\n",
    "    ### Read data and define your \"train\" (application) \n",
    "    inputA = input_data_A.value.split(';')\n",
    "    columnsNum = len(inputA)\n",
    "    item = []\n",
    "    for i in range(0, columnsNum):\n",
    "        item.append([int(i) for i in inputA[0].split(',')])\n",
    "\n",
    "    inputData = {\n",
    "        \"stage\": 1,\n",
    "        \"dataA\" : item\n",
    "    }\n",
    "\n",
    "    myTrain = defineTrain(\"sophia921025/ppdml_demon\", inputData, 1)\n",
    "\n",
    "    ### Execute the train on client\n",
    "    clientId = 1\n",
    "    taskId = requestExecution(signalStation, clientId, myTrain)\n",
    "    print(\"Task submitted with ID: %s\" % taskId)\n",
    "\n",
    "    ### Write results for communicating\n",
    "    results = getExecutionResult(signalStation, clientId, taskId)\n",
    "    print(results[0][\"log\"])\n",
    "    result = json.loads(results[0][\"response\"])\n",
    "    print(result.keys())\n",
    "\n",
    "    return # explainPicA()\n",
    "\n",
    "def explainPicA():\n",
    "    display(Image(url= \"https://github.com/sunchang0124/PHTDemon/blob/master/Pics/demonPic3.png?raw=true\", width=600, height=600))\n",
    "    display(Image(url= \"https://github.com/sunchang0124/PHTDemon/blob/master/Pics/demonPic4.png?raw=true\", width=600, height=600))\n",
    "    display(Image(url= \"https://github.com/sunchang0124/PHTDemon/blob/master/Pics/demonPic5.png?raw=true\", width=600, height=600))\n",
    "    display(Image(url= \"https://github.com/sunchang0124/PHTDemon/blob/master/Pics/demonPic6.png?raw=true\", width=600, height=600))\n"
   ]
  },
  {
   "cell_type": "code",
   "execution_count": 5,
   "metadata": {},
   "outputs": [
    {
     "data": {
      "application/vnd.jupyter.widget-view+json": {
       "model_id": "d26782e46d55406c9c716033585bf5ae",
       "version_major": 2,
       "version_minor": 0
      },
      "text/plain": [
       "Text(value='1,2,3,4,5;2,3,2,3,2', description='Input data A (comma separate): ', layout=Layout(height='30px', …"
      ]
     },
     "metadata": {},
     "output_type": "display_data"
    },
    {
     "data": {
      "application/vnd.jupyter.widget-view+json": {
       "model_id": "92ceae390ee1476fb309084a846936f9",
       "version_major": 2,
       "version_minor": 0
      },
      "text/plain": [
       "Button(button_style='success', description='Run', style=ButtonStyle())"
      ]
     },
     "metadata": {},
     "output_type": "display_data"
    },
    {
     "name": "stdout",
     "output_type": "stream",
     "text": [
      "Task submitted with ID: 279\n",
      "http://vwdata.personalhealthtrain.net/client/1/task/279/result\n",
      "Stage: 1\n",
      "\n",
      "\n",
      "=======================INTERNAL FILE LOG===================== \n",
      "\n",
      "dict_keys(['sumNoiseBytes'])\n"
     ]
    }
   ],
   "source": [
    "#### Demon: Give your data here: ####\n",
    "style = {'description_width': 'initial'}\n",
    "uniLayout = Layout(width='50%', height='30px')\n",
    "input_data_A = widgets.Text(value='1,2,3,4,5;2,3,2,3,2', description='Input data A (comma separate): ', style=style, layout=uniLayout)\n",
    "button_A1 = Button(description=\"Run\", button_style='success', value=None)\n",
    "\n",
    "button_A1.on_click(stage_A1)\n",
    "display(input_data_A, button_A1)"
   ]
  },
  {
   "cell_type": "markdown",
   "metadata": {},
   "source": [
    "- - - - - - - - - - - - - - - - - - - - - - - - - - - - - - - - - - - - - - - - - - - - - - - - - -"
   ]
  },
  {
   "cell_type": "markdown",
   "metadata": {},
   "source": [
    "## Stage 3 at DMS"
   ]
  },
  {
   "cell_type": "code",
   "execution_count": 6,
   "metadata": {},
   "outputs": [],
   "source": [
    "def stage_A2(event):\n",
    "    results = getExecutionResult(signalStation, input_clientID.value, input_taskID.value)\n",
    "    resultSecond = json.loads(results[0][\"response\"])\n",
    "\n",
    "    resultSecond[\"stage\"] = 3\n",
    "    myThirdTrain = defineTrain(\"sophia921025/ppdml_demon\", resultSecond, 1)\n",
    "\n",
    "    clientId = 1\n",
    "    taskId = requestExecution(signalStation, clientId, myThirdTrain)\n",
    "    print(\"Task submitted with ID: %s\" % taskId)\n",
    "\n",
    "    resultsThird = getExecutionResult(signalStation, clientId, taskId)\n",
    "    print(resultsThird[0][\"log\"])\n",
    "    resultThird = json.loads(resultsThird[0][\"response\"])\n",
    "    print(resultThird.keys())"
   ]
  },
  {
   "cell_type": "code",
   "execution_count": 7,
   "metadata": {},
   "outputs": [
    {
     "data": {
      "application/vnd.jupyter.widget-view+json": {
       "model_id": "1d1a9110759345af8cc286d88c178d77",
       "version_major": 2,
       "version_minor": 0
      },
      "text/plain": [
       "BoundedIntText(value=2, description='Retrieve intermediate result from Client ID:', layout=Layout(height='30px…"
      ]
     },
     "metadata": {},
     "output_type": "display_data"
    },
    {
     "data": {
      "application/vnd.jupyter.widget-view+json": {
       "model_id": "4172f28a7bc840b48ec5d1647c676026",
       "version_major": 2,
       "version_minor": 0
      },
      "text/plain": [
       "BoundedIntText(value=150, description='Retrieve intermediate result from Task ID:', layout=Layout(height='30px…"
      ]
     },
     "metadata": {},
     "output_type": "display_data"
    },
    {
     "data": {
      "application/vnd.jupyter.widget-view+json": {
       "model_id": "e3d69e9054204cc5af9086c6426d0da0",
       "version_major": 2,
       "version_minor": 0
      },
      "text/plain": [
       "Button(button_style='success', description='Run', style=ButtonStyle())"
      ]
     },
     "metadata": {},
     "output_type": "display_data"
    },
    {
     "name": "stdout",
     "output_type": "stream",
     "text": [
      "http://vwdata.personalhealthtrain.net/client/2/task/284/result\n",
      "Task submitted with ID: 285\n",
      "http://vwdata.personalhealthtrain.net/client/1/task/285/result\n",
      "Stage: 3\n",
      "\n",
      "\n",
      "=======================INTERNAL FILE LOG===================== \n",
      "\n",
      "dict_keys(['randomsSumSet', 'sumNoisesBARand', 'XaTXa'])\n"
     ]
    }
   ],
   "source": [
    "input_clientID = widgets.BoundedIntText(value=2,max=100,description='Retrieve intermediate result from Client ID:',disabled=False, style=style, layout=uniLayout)\n",
    "input_taskID = widgets.BoundedIntText(value=150,max=10000,description='Retrieve intermediate result from Task ID:',disabled=False, style=style, layout=uniLayout)\n",
    "button1 = Button(description=\"Run\", button_style='success', value=None)\n",
    "\n",
    "button1.on_click(stage_A2)\n",
    "display(input_clientID, input_taskID, button1)"
   ]
  },
  {
   "cell_type": "code",
   "execution_count": 8,
   "metadata": {},
   "outputs": [],
   "source": [
    "import pandas as pd\n",
    "\n",
    "myData = pd.DataFrame.from_records([[0,35,181,25,1,143],[1,60,182,18,3,454],[1,41,172,23,4,54],[0,55,184,30,4,263],[0,35,176,28,2,223],\\\n",
    "[1,56,166,21,4,534],[0,35,181,25,1,143],[1,60,182,18,3,454],[1,41,172,23,4,54],[0,55,184,30,4,263],\\\n",
    "[0,35,176,28,2,223],[1,56,166,21,4,534],[0,35,181,25,1,143],[1,60,182,18,3,454],[1,41,172,23,4,54],\\\n",
    "[0,55,184,30,4,263],[0,35,176,28,2,223],[1,56,166,21,4,534],[0,35,181,25,1,143],[1,60,182,18,3,454]])\n",
    "myData.columns = [\"gender\",\"age\",\"height\",\"bmi\",\"edu\",\"income\"]\n"
   ]
  },
  {
   "cell_type": "code",
   "execution_count": 10,
   "metadata": {},
   "outputs": [
    {
     "name": "stdout",
     "output_type": "stream",
     "text": [
      "Coefficients: \n",
      " [ 1714.91304348    51.65217391   -18.7826087    203.73913043  -625.13043478]\n",
      "Intercept: \n",
      " -2733.52173913\n"
     ]
    }
   ],
   "source": [
    "# X_centralized = np.concatenate((myDataA, myDataB.drop('diag_3', axis=1)), axis=1)\n",
    "Y = myData['income']\n",
    "X_centralized = myData.drop(\"income\", axis=1)\n",
    "from sklearn import linear_model\n",
    "regr = linear_model.LinearRegression(fit_intercept=True, normalize=True)\n",
    "regr.fit(X_centralized, Y)\n",
    "\n",
    "# The coefficients\n",
    "print('Coefficients: \\n', regr.coef_)\n",
    "print('Intercept: \\n', regr.intercept_)"
   ]
  },
  {
   "cell_type": "code",
   "execution_count": null,
   "metadata": {},
   "outputs": [],
   "source": []
  }
 ],
 "metadata": {
  "kernelspec": {
   "display_name": "Python 3",
   "language": "python",
   "name": "python3"
  },
  "language_info": {
   "codemirror_mode": {
    "name": "ipython",
    "version": 3
   },
   "file_extension": ".py",
   "mimetype": "text/x-python",
   "name": "python",
   "nbconvert_exporter": "python",
   "pygments_lexer": "ipython3",
   "version": "3.6.8"
  }
 },
 "nbformat": 4,
 "nbformat_minor": 2
}
