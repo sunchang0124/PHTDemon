{
 "cells": [
  {
   "cell_type": "code",
   "execution_count": 1,
   "metadata": {},
   "outputs": [],
   "source": [
    "import myFunctions as mf\n",
    "import pandas as pd\n",
    "import numpy as np\n",
    "import json"
   ]
  },
  {
   "cell_type": "code",
   "execution_count": 2,
   "metadata": {},
   "outputs": [],
   "source": [
    "myDataA = pd.read_csv(\"https://raw.githubusercontent.com/sunchang0124/PPDML/master/Privacy-preserving%20bayesians/preprocessed_dataFile_A.csv\")\n",
    "myDataA = myDataA.drop('Unnamed: 0', axis=1)"
   ]
  },
  {
   "cell_type": "code",
   "execution_count": 3,
   "metadata": {},
   "outputs": [],
   "source": [
    "# We assume target class is at B site and always the last column in B data\n",
    "myDataB = pd.read_csv(\"https://raw.githubusercontent.com/sunchang0124/PPDML/master/Privacy-preserving%20bayesians/preprocessed_dataFile_B.csv\")\n",
    "# colB = myDataB.columns\n",
    "# Y = myDataB['diag_3']\n",
    "# myDataB = myDataB[colB[0:6]].drop(['Unnamed: 0'], axis=1) # we only use first 5 columns here because the values  \n",
    "\n",
    "Y = myDataB.iloc[:,-1]\n",
    "myDataB = myDataB.drop(['Unnamed: 0'], axis=1)\n"
   ]
  },
  {
   "cell_type": "code",
   "execution_count": 4,
   "metadata": {},
   "outputs": [],
   "source": [
    "# myDataA = pd.read_csv(\"https://raw.githubusercontent.com/sunchang0124/PPDML/master/Privacy-preserving%20bayesians/preprocessed_dataFile_A.csv\")\n",
    "# myDataA = myDataA.drop('Unnamed: 0', axis=1)"
   ]
  },
  {
   "cell_type": "code",
   "execution_count": 5,
   "metadata": {},
   "outputs": [],
   "source": [
    "# We assume target class is at B site and always the last column in B data\n",
    "# myDataB = pd.read_csv(\"https://raw.githubusercontent.com/sunchang0124/PPDML/master/Privacy-preserving%20bayesians/preprocessed_dataFile_B.csv\")\n",
    "# colB = myDataB.columns\n",
    "# Y = myDataB['diag_3']\n",
    "# myDataB = myDataB[colB[0:6]].drop(['Unnamed: 0'], axis=1) # we only use first 5 columns here because the values    \n"
   ]
  },
  {
   "cell_type": "code",
   "execution_count": 6,
   "metadata": {},
   "outputs": [],
   "source": [
    "Divide_set = 10\n",
    "C_seed = 2\n",
    "C_min = 0\n",
    "C_max = 5"
   ]
  },
  {
   "cell_type": "code",
   "execution_count": 7,
   "metadata": {},
   "outputs": [
    {
     "name": "stdout",
     "output_type": "stream",
     "text": [
      "CPU times: user 4.17 ms, sys: 1.96 ms, total: 6.13 ms\n",
      "Wall time: 4.49 ms\n"
     ]
    }
   ],
   "source": [
    "% time resultStageOne = mf.start_at_A(myDataA, Divide_set, C_seed, C_min, C_max)"
   ]
  },
  {
   "cell_type": "code",
   "execution_count": 8,
   "metadata": {},
   "outputs": [
    {
     "name": "stdout",
     "output_type": "stream",
     "text": [
      "CPU times: user 4.23 ms, sys: 1.52 ms, total: 5.75 ms\n",
      "Wall time: 4.27 ms\n"
     ]
    }
   ],
   "source": [
    "% time resultStageTwo = mf.start_at_B(myDataB, C_seed, C_min, C_max, resultStageOne[\"sumNoiseBytes\"], Divide_set)"
   ]
  },
  {
   "cell_type": "code",
   "execution_count": 9,
   "metadata": {},
   "outputs": [
    {
     "name": "stdout",
     "output_type": "stream",
     "text": [
      "CPU times: user 661 µs, sys: 152 µs, total: 813 µs\n",
      "Wall time: 674 µs\n"
     ]
    }
   ],
   "source": [
    "% time resultStageThree = mf.communication_at_A(myDataA, resultStageOne['randomBytes'], resultStageTwo['sumNoisesAB'], \\\n",
    "                                         resultStageTwo['sumNoisesB'], Divide_set)\n"
   ]
  },
  {
   "cell_type": "code",
   "execution_count": 10,
   "metadata": {},
   "outputs": [
    {
     "name": "stdout",
     "output_type": "stream",
     "text": [
      "Coefficients: \n",
      " [[ 1714.91304348]\n",
      " [   51.65217391]\n",
      " [  -18.7826087 ]\n",
      " [  203.73913043]\n",
      " [ -625.13043478]]\n",
      "Intercept:  -2733.5217391382903\n",
      "CPU times: user 1.56 ms, sys: 1.35 ms, total: 2.92 ms\n",
      "Wall time: 1.52 ms\n"
     ]
    }
   ],
   "source": [
    "% time myResult = mf.Final_at_B(myDataB, resultStageThree[\"randomsSumSet\"], resultStageThree[\"sumNoisesBARand\"], \\\n",
    "                         resultStageThree[\"XaTXa\"], resultStageTwo['randomBytes'], Divide_set)\n"
   ]
  },
  {
   "cell_type": "code",
   "execution_count": 13,
   "metadata": {},
   "outputs": [
    {
     "name": "stdout",
     "output_type": "stream",
     "text": [
      "Coefficients: \n",
      " [    0.          1714.91304348    51.65217391   -18.7826087    203.73913043\n",
      "  -625.13043478]\n",
      "Intercept: \n",
      " -2733.52173913\n"
     ]
    }
   ],
   "source": [
    "X_centralized = np.concatenate((myDataA, myDataB.drop('income', axis=1)), axis=1)\n",
    "# Y = myData.iloc[:,-1]\n",
    "# X_centralized = myData.drop(\"income\", axis=1)\n",
    "from sklearn import linear_model\n",
    "regr = linear_model.LinearRegression(fit_intercept=True, normalize=True)\n",
    "regr.fit(X_centralized, Y)\n",
    "\n",
    "# The coefficients\n",
    "print('Coefficients: \\n', regr.coef_)\n",
    "print('Intercept: \\n', regr.intercept_)"
   ]
  },
  {
   "cell_type": "code",
   "execution_count": null,
   "metadata": {},
   "outputs": [],
   "source": []
  }
 ],
 "metadata": {
  "kernelspec": {
   "display_name": "Python 3",
   "language": "python",
   "name": "python3"
  },
  "language_info": {
   "codemirror_mode": {
    "name": "ipython",
    "version": 3
   },
   "file_extension": ".py",
   "mimetype": "text/x-python",
   "name": "python",
   "nbconvert_exporter": "python",
   "pygments_lexer": "ipython3",
   "version": "3.6.8"
  }
 },
 "nbformat": 4,
 "nbformat_minor": 2
}
