{
 "cells": [
  {
   "cell_type": "markdown",
   "metadata": {},
   "source": [
    "# FAIRHealth PHT PPDML"
   ]
  },
  {
   "cell_type": "code",
   "execution_count": 2,
   "metadata": {},
   "outputs": [],
   "source": [
    "import requests\n",
    "import json\n",
    "import uuid\n",
    "import time\n",
    "from IPython.display import Image\n",
    "from IPython.core.display import HTML \n",
    "\n",
    "import ipywidgets as widgets\n",
    "from ipywidgets import interact, interactive, interact_manual, Layout, Button"
   ]
  },
  {
   "cell_type": "code",
   "execution_count": 3,
   "metadata": {},
   "outputs": [],
   "source": [
    "signalStation = \"http://vwdata.personalhealthtrain.net\"\n",
    "\n",
    "def getStations(signalStation):\n",
    "    response = requests.get(signalStation + \"/client\")\n",
    "    return json.loads(response.text)\n",
    "\n",
    "def defineTrain(image, inputVars, runId):\n",
    "    return {\n",
    "        \"image\": image,\n",
    "        \"inputString\": (\"%s\" % json.dumps(inputVars)),\n",
    "        \"runId\": runId\n",
    "    }\n",
    "\n",
    "def requestExecution(signalStation, clientId, taskDescription):\n",
    "    response = requests.post(signalStation + \"/client/\" + str(clientId) + \"/task/add\", json=taskDescription)\n",
    "    taskId = json.loads(response.text)[\"taskId\"]\n",
    "    return taskId\n",
    "\n",
    "def getExecutionResult(signalStation, clientId, taskId, wait=True):\n",
    "    url = signalStation + \"/client/\" + str(clientId) + \"/task/\" + str(taskId) + \"/result\"\n",
    "    print(url)\n",
    "    jsonResult = json.loads(requests.get(url).text)\n",
    "    \n",
    "    while len(jsonResult)==0 & wait:\n",
    "        time.sleep(2)\n",
    "        jsonResult = json.loads(requests.get(url).text)\n",
    "    \n",
    "    return jsonResult"
   ]
  },
  {
   "cell_type": "markdown",
   "metadata": {},
   "source": [
    "## Set up for two data stations (two parties)"
   ]
  },
  {
   "cell_type": "code",
   "execution_count": 4,
   "metadata": {},
   "outputs": [
    {
     "data": {
      "text/html": [
       "<img src=\"https://github.com/sunchang0124/PHTDemon/blob/master/Pics/demonPic2.png?raw=true\" width=\"600\" height=\"600\"/>"
      ],
      "text/plain": [
       "<IPython.core.display.Image object>"
      ]
     },
     "execution_count": 4,
     "metadata": {},
     "output_type": "execute_result"
    }
   ],
   "source": [
    "Image(url= \"https://github.com/sunchang0124/PHTDemon/blob/master/Pics/demonPic2.png?raw=true\", width=600, height=600)"
   ]
  },
  {
   "cell_type": "code",
   "execution_count": 5,
   "metadata": {},
   "outputs": [
    {
     "data": {
      "text/plain": [
       "[{'country': 'The Netherlands',\n",
       "  'email': 'johan.vansoest@maastro.nl',\n",
       "  'id': 1,\n",
       "  'institute': 'Maastricht University',\n",
       "  'ip': '192.168.96.1',\n",
       "  'last_seen': '2019-05-28 14:22:00.469070',\n",
       "  'name': 'The Maastricht Study'},\n",
       " {'country': 'Netherlands',\n",
       "  'email': 'johan.vansoest@maastro.nl',\n",
       "  'id': 2,\n",
       "  'institute': 'MAASTRO Clinic',\n",
       "  'ip': '192.168.96.1',\n",
       "  'last_seen': '2019-05-28 14:22:02.688460',\n",
       "  'name': 'VWData Station Maastro'}]"
      ]
     },
     "execution_count": 5,
     "metadata": {},
     "output_type": "execute_result"
    }
   ],
   "source": [
    "getStations(signalStation)"
   ]
  },
  {
   "cell_type": "markdown",
   "metadata": {},
   "source": [
    "## This is data party B"
   ]
  },
  {
   "cell_type": "code",
   "execution_count": 6,
   "metadata": {},
   "outputs": [
    {
     "ename": "NameError",
     "evalue": "name 'stage_A1' is not defined",
     "output_type": "error",
     "traceback": [
      "\u001b[0;31m---------------------------------------------------------------------------\u001b[0m",
      "\u001b[0;31mNameError\u001b[0m                                 Traceback (most recent call last)",
      "\u001b[0;32m<ipython-input-6-0629412070bb>\u001b[0m in \u001b[0;36m<module>\u001b[0;34m()\u001b[0m\n\u001b[1;32m      5\u001b[0m \u001b[0;31m# button1 = Button(description=\"Run\", button_style='success', value=None)\u001b[0m\u001b[0;34m\u001b[0m\u001b[0;34m\u001b[0m\u001b[0;34m\u001b[0m\u001b[0m\n\u001b[1;32m      6\u001b[0m \u001b[0;34m\u001b[0m\u001b[0m\n\u001b[0;32m----> 7\u001b[0;31m \u001b[0minteract_manual\u001b[0m\u001b[0;34m(\u001b[0m\u001b[0mstage_A1\u001b[0m\u001b[0;34m,\u001b[0m \u001b[0mi\u001b[0m\u001b[0;34m=\u001b[0m\u001b[0minput_data_A\u001b[0m\u001b[0;34m)\u001b[0m\u001b[0;34m\u001b[0m\u001b[0;34m\u001b[0m\u001b[0m\n\u001b[0m",
      "\u001b[0;31mNameError\u001b[0m: name 'stage_A1' is not defined"
     ]
    }
   ],
   "source": [
    "#### Demon: Give your data here: ####\n",
    "style = {'description_width': 'initial'}\n",
    "uniLayout = Layout(width='50%', height='30px')\n",
    "input_data_A = widgets.Text(value='', description='Input data A (comma separate): ', style=style, layout=uniLayout)\n",
    "# button1 = Button(description=\"Run\", button_style='success', value=None)\n",
    "\n",
    "interact_manual(stage_A1, i=input_data_A)"
   ]
  },
  {
   "cell_type": "code",
   "execution_count": 3,
   "metadata": {},
   "outputs": [
    {
     "name": "stdout",
     "output_type": "stream",
     "text": [
      "http://vwdata.personalhealthtrain.net/client/1/task/136/result\n",
      "Stage: 1\n",
      "https://raw.githubusercontent.com/sunchang0124/PPDML/master/Privacy-preserving%20bayesians/preprocessed_dataFile_A.csv\n",
      "\r\n",
      "\r\n",
      "=======================INTERNAL FILE LOG===================== \r\n",
      "\n",
      "dict_keys(['sumNoiseBytes'])\n"
     ]
    }
   ],
   "source": [
    "clientId = 1\n",
    "taskId = 136\n",
    "results = getExecutionResult(signalStation, clientId, taskId)\n",
    "print(results[0][\"log\"])\n",
    "result = json.loads(results[0][\"response\"])\n",
    "print(result.keys())"
   ]
  },
  {
   "cell_type": "markdown",
   "metadata": {},
   "source": [
    "## Stage 2 at CBS/Maastro endpoint"
   ]
  },
  {
   "cell_type": "code",
   "execution_count": 4,
   "metadata": {},
   "outputs": [],
   "source": [
    "result[\"stage\"] = 2\n",
    "mySecondTrain = defineTrain(\"sophia921025/ppdml_demon\", result, 1)"
   ]
  },
  {
   "cell_type": "code",
   "execution_count": 5,
   "metadata": {},
   "outputs": [
    {
     "name": "stdout",
     "output_type": "stream",
     "text": [
      "Task submitted with ID: 137\n"
     ]
    }
   ],
   "source": [
    "clientId = 2\n",
    "taskId = requestExecution(signalStation, clientId, mySecondTrain)\n",
    "print(\"Task submitted with ID: %s\" % taskId)"
   ]
  },
  {
   "cell_type": "code",
   "execution_count": 6,
   "metadata": {},
   "outputs": [
    {
     "name": "stdout",
     "output_type": "stream",
     "text": [
      "http://vwdata.personalhealthtrain.net/client/2/task/137/result\n",
      "Stage: 2\n",
      "\n",
      "\n",
      "=======================INTERNAL FILE LOG===================== \n",
      "\n",
      "dict_keys(['sumNoisesAB', 'sumNoisesB'])\n"
     ]
    }
   ],
   "source": [
    "resultsSecond = getExecutionResult(signalStation, clientId, taskId)\n",
    "print(resultsSecond[0][\"log\"])\n",
    "resultSecond = json.loads(resultsSecond[0][\"response\"])\n",
    "print(resultSecond.keys())\n",
    "\n",
    "sumNoisesAB = resultSecond[\"sumNoisesAB\"]"
   ]
  },
  {
   "cell_type": "markdown",
   "metadata": {},
   "source": [
    "## Stage 3 at DMS"
   ]
  },
  {
   "cell_type": "code",
   "execution_count": null,
   "metadata": {},
   "outputs": [],
   "source": [
    "# resultSecond[\"stage\"] = 3\n",
    "# myThirdTrain = defineTrain(\"sophia921025/fairhealth_test\", resultSecond, 1)"
   ]
  },
  {
   "cell_type": "code",
   "execution_count": null,
   "metadata": {},
   "outputs": [],
   "source": [
    "# clientId = 1\n",
    "# taskId = requestExecution(signalStation, clientId, myThirdTrain)\n",
    "# print(\"Task submitted with ID: %s\" % taskId)"
   ]
  },
  {
   "cell_type": "code",
   "execution_count": 7,
   "metadata": {},
   "outputs": [
    {
     "name": "stdout",
     "output_type": "stream",
     "text": [
      "http://vwdata.personalhealthtrain.net/client/1/task/138/result\n",
      "Stage: 3\n",
      "\r\n",
      "\r\n",
      "=======================INTERNAL FILE LOG===================== \r\n",
      "\n",
      "dict_keys(['randomsSumSet', 'sumNoisesBARand', 'XaTXa'])\n"
     ]
    }
   ],
   "source": [
    "clientId = 1\n",
    "taskId = 138\n",
    "resultsThird = getExecutionResult(signalStation, clientId, taskId)\n",
    "print(resultsThird[0][\"log\"])\n",
    "resultThird = json.loads(resultsThird[0][\"response\"])\n",
    "print(resultThird.keys())"
   ]
  },
  {
   "cell_type": "markdown",
   "metadata": {},
   "source": [
    "## Stage 4 at CBS/Maastro"
   ]
  },
  {
   "cell_type": "code",
   "execution_count": 8,
   "metadata": {},
   "outputs": [
    {
     "name": "stdout",
     "output_type": "stream",
     "text": [
      "dict_keys(['randomsSumSet', 'sumNoisesBARand', 'XaTXa', 'stage', 'sumNoisesAB'])\n"
     ]
    }
   ],
   "source": [
    "resultThird[\"stage\"] = 4\n",
    "resultThird[\"sumNoisesAB\"] = sumNoisesAB\n",
    "myFourthTrain = defineTrain(\"sophia921025/fairhealth_test\", resultThird, 1)\n",
    "print(resultThird.keys())"
   ]
  },
  {
   "cell_type": "code",
   "execution_count": 9,
   "metadata": {},
   "outputs": [
    {
     "name": "stdout",
     "output_type": "stream",
     "text": [
      "Task submitted with ID: 139\n"
     ]
    }
   ],
   "source": [
    "clientId = 2\n",
    "taskId = requestExecution(signalStation, clientId, myFourthTrain)\n",
    "print(\"Task submitted with ID: %s\" % taskId)"
   ]
  },
  {
   "cell_type": "code",
   "execution_count": 10,
   "metadata": {},
   "outputs": [
    {
     "name": "stdout",
     "output_type": "stream",
     "text": [
      "http://vwdata.personalhealthtrain.net/client/2/task/139/result\n",
      "Stage: 4\n",
      "XaTXa: 10 - 10\n",
      "XbTXa: 10 - 1\n",
      "XaTXb: 4 - 1\n",
      "XbTXb: 5 - 1\n",
      "XbTXb_exclY: 4 - 1\n",
      "Coefficients: \n",
      " [[-1.15678321e+01]\n",
      " [-4.89996193e+00]\n",
      " [-6.35477806e+01]\n",
      " [-2.85351329e+00]\n",
      " [ 2.17420659e-01]\n",
      " [ 3.14462563e+00]\n",
      " [ 1.02737671e+02]\n",
      " [-1.13506411e+01]\n",
      " [-3.14968709e+02]\n",
      " [-2.84356047e+02]\n",
      " [ 1.00324224e+02]\n",
      " [ 7.45891879e-01]\n",
      " [ 1.47713293e-02]]\n",
      "Intercept:  -9.219794829436864\n",
      "\n",
      "\n",
      "=======================INTERNAL FILE LOG===================== \n",
      "\n"
     ]
    }
   ],
   "source": [
    "resultsFourth = getExecutionResult(signalStation, clientId, taskId)\n",
    "print(resultsFourth[0][\"log\"])\n",
    "resultFourth = json.loads(resultsFourth[0][\"response\"])"
   ]
  },
  {
   "cell_type": "code",
   "execution_count": 11,
   "metadata": {},
   "outputs": [
    {
     "data": {
      "text/plain": [
       "{'coefficients': [[-11.567832132195491],\n",
       "  [-4.899961927558223],\n",
       "  [-63.54778055394095],\n",
       "  [-2.8535132880358383],\n",
       "  [0.21742065903845065],\n",
       "  [3.1446256288705268],\n",
       "  [102.73767110231726],\n",
       "  [-11.350641084122314],\n",
       "  [-314.9687090401608],\n",
       "  [-284.3560467586901],\n",
       "  [100.3242237253576],\n",
       "  [0.7458918790132196],\n",
       "  [0.014771329331850325]],\n",
       " 'intercept': -9.219794829436864}"
      ]
     },
     "execution_count": 11,
     "metadata": {},
     "output_type": "execute_result"
    }
   ],
   "source": [
    "resultFourth"
   ]
  },
  {
   "cell_type": "code",
   "execution_count": null,
   "metadata": {},
   "outputs": [],
   "source": []
  }
 ],
 "metadata": {
  "kernelspec": {
   "display_name": "Python 3",
   "language": "python",
   "name": "python3"
  },
  "language_info": {
   "codemirror_mode": {
    "name": "ipython",
    "version": 3
   },
   "file_extension": ".py",
   "mimetype": "text/x-python",
   "name": "python",
   "nbconvert_exporter": "python",
   "pygments_lexer": "ipython3",
   "version": "3.6.8"
  }
 },
 "nbformat": 4,
 "nbformat_minor": 2
}
