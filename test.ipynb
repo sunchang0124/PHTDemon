{
 "cells": [
  {
   "cell_type": "code",
   "execution_count": 1,
   "metadata": {},
   "outputs": [],
   "source": [
    "import myFunctions as mf\n",
    "import pandas as pd\n",
    "import numpy as np\n",
    "import json"
   ]
  },
  {
   "cell_type": "code",
   "execution_count": 26,
   "metadata": {},
   "outputs": [
    {
     "name": "stdout",
     "output_type": "stream",
     "text": [
      "Number of rows:  20000\n",
      "Number of columns:  21\n"
     ]
    }
   ],
   "source": [
    "myData = pd.read_csv(\"preprocessed_dataFile.csv\").drop(['Unnamed: 0', 'encounter_id'],axis=1)[0:20000]\n",
    "col = myData.columns\n",
    "print('Number of rows: ', len(myData))\n",
    "print('Number of columns: ', len(col))"
   ]
  },
  {
   "cell_type": "code",
   "execution_count": 27,
   "metadata": {},
   "outputs": [],
   "source": [
    "myDataA = myData[col[0:11]]\n",
    "myDataB = myData[col[11:22]].drop('diag_3', axis=1)\n",
    "myDataB['diag_3'] = myData['diag_3']\n",
    "Y = myDataB['diag_3']"
   ]
  },
  {
   "cell_type": "code",
   "execution_count": 28,
   "metadata": {},
   "outputs": [],
   "source": [
    "# myDataA = pd.read_csv(\"https://raw.githubusercontent.com/sunchang0124/PPDML/master/Privacy-preserving%20bayesians/preprocessed_dataFile_A.csv\")\n",
    "# myDataA = myDataA.drop('Unnamed: 0', axis=1)"
   ]
  },
  {
   "cell_type": "code",
   "execution_count": 29,
   "metadata": {},
   "outputs": [],
   "source": [
    "# We assume target class is at B site and always the last column in B data\n",
    "# myDataB = pd.read_csv(\"https://raw.githubusercontent.com/sunchang0124/PPDML/master/Privacy-preserving%20bayesians/preprocessed_dataFile_B.csv\")\n",
    "# colB = myDataB.columns\n",
    "# Y = myDataB['diag_3']\n",
    "# myDataB = myDataB[colB[0:6]].drop(['Unnamed: 0'], axis=1) # we only use first 5 columns here because the values    \n"
   ]
  },
  {
   "cell_type": "code",
   "execution_count": 30,
   "metadata": {},
   "outputs": [],
   "source": [
    "Divide_set = 10\n",
    "C_seed = 2\n",
    "C_min = 0\n",
    "C_max = 5"
   ]
  },
  {
   "cell_type": "code",
   "execution_count": 31,
   "metadata": {},
   "outputs": [
    {
     "name": "stdout",
     "output_type": "stream",
     "text": [
      "CPU times: user 4min 40s, sys: 7min 57s, total: 12min 37s\n",
      "Wall time: 17min 49s\n"
     ]
    }
   ],
   "source": [
    "% time resultStageOne = mf.start_at_A(myDataA, Divide_set, C_seed, C_min, C_max)"
   ]
  },
  {
   "cell_type": "code",
   "execution_count": 32,
   "metadata": {},
   "outputs": [
    {
     "name": "stdout",
     "output_type": "stream",
     "text": [
      "CPU times: user 17min, sys: 12min 45s, total: 29min 45s\n",
      "Wall time: 46min 8s\n"
     ]
    }
   ],
   "source": [
    "% time resultStageTwo = mf.start_at_B(myDataB, C_seed, C_min, C_max, resultStageOne[\"sumNoiseBytes\"], Divide_set)"
   ]
  },
  {
   "cell_type": "code",
   "execution_count": 33,
   "metadata": {},
   "outputs": [
    {
     "name": "stdout",
     "output_type": "stream",
     "text": [
      "CPU times: user 241 ms, sys: 45.8 ms, total: 286 ms\n",
      "Wall time: 407 ms\n"
     ]
    }
   ],
   "source": [
    "% time resultStageThree = mf.communication_at_A(myDataA, resultStageOne['randomBytes'], resultStageTwo['sumNoisesAB'], \\\n",
    "                                         resultStageTwo['sumNoisesB'], Divide_set)\n"
   ]
  },
  {
   "cell_type": "code",
   "execution_count": 34,
   "metadata": {},
   "outputs": [
    {
     "name": "stdout",
     "output_type": "stream",
     "text": [
      "XaTXa: 12 - 12\n",
      "XbTXa: 12 - 1\n",
      "XaTXb: 9 - 1\n",
      "XbTXb: 10 - 1\n",
      "XbTXb_exclY: 9 - 1\n",
      "Coefficients: \n",
      " [[  2.91930788e+00]\n",
      " [  1.72473308e+00]\n",
      " [ -1.16096993e+01]\n",
      " [ -1.08742468e-02]\n",
      " [  3.42081088e+00]\n",
      " [  3.47961492e-01]\n",
      " [ -2.63128874e-01]\n",
      " [ -5.58430798e-01]\n",
      " [ -6.04279254e-01]\n",
      " [ -2.18479192e+00]\n",
      " [  1.55155637e-01]\n",
      " [  7.22721117e-01]\n",
      " [ -1.27336665e-02]\n",
      " [  2.87124158e-02]\n",
      " [ -1.20701878e+00]\n",
      " [  2.53808931e+00]\n",
      " [  1.73470332e+00]\n",
      " [ -9.58211863e+00]\n",
      " [  1.70954501e+01]\n",
      " [  4.61929588e+01]]\n",
      "Intercept:  285.22904500129516\n",
      "CPU times: user 112 ms, sys: 26.4 ms, total: 138 ms\n",
      "Wall time: 94.9 ms\n"
     ]
    }
   ],
   "source": [
    "% time myResult = mf.Final_at_B(myDataB, resultStageThree[\"randomsSumSet\"], resultStageThree[\"sumNoisesBARand\"], \\\n",
    "                         resultStageThree[\"XaTXa\"], resultStageTwo['randomBytes'], Divide_set)\n"
   ]
  },
  {
   "cell_type": "code",
   "execution_count": null,
   "metadata": {},
   "outputs": [],
   "source": [
    "##### checking with centralized datasets by using scikit learn #####\n",
    "\n",
    "X_centralized = np.concatenate((myDataA, myDataB.drop('diag_3', axis=1)), axis=1)\n",
    "from sklearn import linear_model\n",
    "regr = linear_model.LinearRegression(fit_intercept=True, normalize=True)\n",
    "regr.fit(X_centralized, Y)\n",
    "\n",
    "# The coefficients\n",
    "print('Coefficients: \\n', regr.coef_)\n",
    "print('Intercept: \\n', regr.intercept_)"
   ]
  },
  {
   "cell_type": "code",
   "execution_count": null,
   "metadata": {},
   "outputs": [],
   "source": [
    "# for i in range(0, len(myResult[\"coefficients\"])):\n",
    "#     print(str(np.matrix(regr.coef_[i+1])) == str(myResult[\"coefficients\"][i]))"
   ]
  },
  {
   "cell_type": "code",
   "execution_count": null,
   "metadata": {},
   "outputs": [],
   "source": []
  }
 ],
 "metadata": {
  "kernelspec": {
   "display_name": "Python 3",
   "language": "python",
   "name": "python3"
  },
  "language_info": {
   "codemirror_mode": {
    "name": "ipython",
    "version": 3
   },
   "file_extension": ".py",
   "mimetype": "text/x-python",
   "name": "python",
   "nbconvert_exporter": "python",
   "pygments_lexer": "ipython3",
   "version": "3.6.8"
  }
 },
 "nbformat": 4,
 "nbformat_minor": 2
}
