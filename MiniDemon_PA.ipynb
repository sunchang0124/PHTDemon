{
 "cells": [
  {
   "cell_type": "code",
   "execution_count": 1,
   "metadata": {},
   "outputs": [],
   "source": [
    "import time\n",
    "import pandas as pd\n",
    "import numpy as np\n",
    "import requests\n",
    "import json\n",
    "import ipywidgets as widgets\n",
    "from numpy.linalg import inv"
   ]
  },
  {
   "cell_type": "code",
   "execution_count": 2,
   "metadata": {},
   "outputs": [],
   "source": [
    "### Start at A ###\n",
    "def start_at_A(X_a, C_seed, C_min, C_max): # df: import data in DataFrame Format\n",
    "\n",
    "    # Generate random numbers and add to data at Data Site A\n",
    "    np.random.seed(None)\n",
    "    A_randoms = np.random.randint(C_min, C_max, len(X_a))\n",
    "        \n",
    "    # C_noises is shared between A and B \n",
    "    np.random.seed(C_seed)\n",
    "    C_matrix = np.random.randint(C_min, C_max, (len(X_a), len(X_a)))\n",
    "\n",
    "    Sum_noises_A = np.add(X_a, np.dot(C_matrix.transpose(), A_randoms)) # which will be sent to B\n",
    "\n",
    "    return np.array(A_randoms), np.array(Sum_noises_A)\n",
    "\n",
    "def communication_at_A(X_a, A_randoms, Sum_noises_AB, Sum_noises_B, B_divide_set):\n",
    "    \n",
    "    ### At site A ###\n",
    "    A_randoms_Sumset = []\n",
    "\n",
    "    for j in range(0, int(len(X_a)/B_divide_set)):\n",
    "        temp = 0\n",
    "        for k in range(0, B_divide_set):\n",
    "            temp = temp + A_randoms[B_divide_set*j + k]\n",
    "        A_randoms_Sumset.append(temp)\n",
    "    \n",
    "    Sum_noises_B_Arand = np.subtract(Sum_noises_AB, np.dot(A_randoms,Sum_noises_B))\n",
    "\n",
    "    # Calculate X_a.T * X_a locally at data site A \n",
    "    XaTXa = np.matrix(X_a).T * np.matrix(X_a)\n",
    "\n",
    "    \n",
    "    return np.array(A_randoms_Sumset), np.array(Sum_noises_B_Arand), np.array(XaTXa)"
   ]
  },
  {
   "cell_type": "code",
   "execution_count": 3,
   "metadata": {},
   "outputs": [],
   "source": [
    "style = {'description_width': 'initial'}\n",
    "uniLayout = widgets.Layout(width='50%', height='50px')\n",
    "\n",
    "Q0 = widgets.RadioButtons(\n",
    "    options=['No', 'Yes'],\n",
    "    description='1. Are you a meat lover?',\n",
    "    style=style, \n",
    "    layout=uniLayout\n",
    ")\n",
    "\n",
    "Q1 = widgets.RadioButtons(\n",
    "    options=['Hell No', 'YES!'],\n",
    "    description='2. Do you like pizza with pineapple on top?',\n",
    "    style=style, \n",
    "    layout=uniLayout\n",
    ")\n",
    "\n",
    "Q2 = widgets.RadioButtons(\n",
    "    options=['No', 'Yes'],\n",
    "    description='3. Do you add sugar in coffee?',\n",
    "    style=style, \n",
    "    layout=uniLayout\n",
    ")\n",
    "\n",
    "Q3 = widgets.RadioButtons(\n",
    "    options=['No, only salt', 'Tons of sauce'],\n",
    "    description='4. Do you eat fries with sauce?',\n",
    "    style=style, \n",
    "    layout=uniLayout\n",
    ")\n",
    "\n",
    "Q4 = widgets.RadioButtons(\n",
    "    options=['Never drink it', 'LOVE it'],\n",
    "    description='5. Do you like Dutch beer?',\n",
    "    style=style, \n",
    "    layout=uniLayout\n",
    ")\n",
    "\n",
    "Q5 = widgets.RadioButtons(\n",
    "    options=['Nope', 'Sure, what else?'],\n",
    "    description='6. Do you frequently eat potatoes?',\n",
    "    style=style, \n",
    "    layout=uniLayout\n",
    ")\n",
    "\n",
    "Q6 = widgets.RadioButtons(\n",
    "    options=['Nope', 'Of course'],\n",
    "    description='7. Do you like Vlaai?',\n",
    "    style=style, \n",
    "    layout=uniLayout\n",
    ")\n",
    "\n",
    "Q7 = widgets.RadioButtons(\n",
    "    options=['Hate it', 'Enjoy a lot!'],\n",
    "    description='8. Do you like cooking?',\n",
    "    style=style, \n",
    "    layout=uniLayout\n",
    ")"
   ]
  },
  {
   "cell_type": "code",
   "execution_count": 4,
   "metadata": {},
   "outputs": [
    {
     "data": {
      "application/vnd.jupyter.widget-view+json": {
       "model_id": "6870e374d506414790dfec00c819af74",
       "version_major": 2,
       "version_minor": 0
      },
      "text/plain": [
       "RadioButtons(description='1. Are you a meat lover?', layout=Layout(height='50px', width='50%'), options=('No',…"
      ]
     },
     "metadata": {},
     "output_type": "display_data"
    },
    {
     "data": {
      "application/vnd.jupyter.widget-view+json": {
       "model_id": "c47b06a779034d13885bd9780e8b103f",
       "version_major": 2,
       "version_minor": 0
      },
      "text/plain": [
       "RadioButtons(description='2. Do you like pizza with pineapple on top?', layout=Layout(height='50px', width='50…"
      ]
     },
     "metadata": {},
     "output_type": "display_data"
    },
    {
     "data": {
      "application/vnd.jupyter.widget-view+json": {
       "model_id": "2cd995e32d7e4072ae6449f86d0e02da",
       "version_major": 2,
       "version_minor": 0
      },
      "text/plain": [
       "RadioButtons(description='3. Do you add sugar in coffee?', layout=Layout(height='50px', width='50%'), options=…"
      ]
     },
     "metadata": {},
     "output_type": "display_data"
    },
    {
     "data": {
      "application/vnd.jupyter.widget-view+json": {
       "model_id": "279eca137e6d4df7a9040f37d98cac48",
       "version_major": 2,
       "version_minor": 0
      },
      "text/plain": [
       "RadioButtons(description='4. Do you eat fries with sauce?', layout=Layout(height='50px', width='50%'), options…"
      ]
     },
     "metadata": {},
     "output_type": "display_data"
    },
    {
     "data": {
      "application/vnd.jupyter.widget-view+json": {
       "model_id": "e32d8d234da548a88f033e93d2dd2c17",
       "version_major": 2,
       "version_minor": 0
      },
      "text/plain": [
       "RadioButtons(description='5. Do you like Dutch beer?', layout=Layout(height='50px', width='50%'), options=('Ne…"
      ]
     },
     "metadata": {},
     "output_type": "display_data"
    },
    {
     "data": {
      "application/vnd.jupyter.widget-view+json": {
       "model_id": "e7686dcd00b8480cadceb23312988910",
       "version_major": 2,
       "version_minor": 0
      },
      "text/plain": [
       "RadioButtons(description='6. Do you frequently eat potatoes?', layout=Layout(height='50px', width='50%'), opti…"
      ]
     },
     "metadata": {},
     "output_type": "display_data"
    },
    {
     "data": {
      "application/vnd.jupyter.widget-view+json": {
       "model_id": "dd70b32cf1184d42967e89736c52af09",
       "version_major": 2,
       "version_minor": 0
      },
      "text/plain": [
       "RadioButtons(description='7. Do you like Vlaai?', layout=Layout(height='50px', width='50%'), options=('Nope', …"
      ]
     },
     "metadata": {},
     "output_type": "display_data"
    },
    {
     "data": {
      "application/vnd.jupyter.widget-view+json": {
       "model_id": "8211997998b048a78b230b8f8edb395e",
       "version_major": 2,
       "version_minor": 0
      },
      "text/plain": [
       "RadioButtons(description='8. Do you like cooking?', layout=Layout(height='50px', width='50%'), options=('Hate …"
      ]
     },
     "metadata": {},
     "output_type": "display_data"
    }
   ],
   "source": [
    "display(Q0, Q1, Q2, Q3, Q4, Q5, Q6, Q7)"
   ]
  },
  {
   "cell_type": "code",
   "execution_count": 6,
   "metadata": {},
   "outputs": [
    {
     "name": "stdout",
     "output_type": "stream",
     "text": [
      "The message needs to send to party B: \n",
      " [26 36 12 19 28 39 28 27]\n"
     ]
    }
   ],
   "source": [
    "C_seed = 1\n",
    "C_min = 0\n",
    "C_max = 5\n",
    "B_divide_set = 4\n",
    "X_a = np.array([Q0.index,Q1.index,Q2.index,Q3.index,Q4.index,Q5.index,Q6.index,Q7.index])\n",
    "A_randoms, Sum_noises_A = start_at_A(X_a, C_seed, C_min, C_max)\n",
    "\n",
    "print('The message needs to send to party B: \\n', Sum_noises_A)"
   ]
  },
  {
   "cell_type": "markdown",
   "metadata": {},
   "source": [
    "-----------------------------------------------------------------"
   ]
  },
  {
   "cell_type": "markdown",
   "metadata": {},
   "source": [
    "### Wait for inputs from Party B ####"
   ]
  },
  {
   "cell_type": "code",
   "execution_count": 7,
   "metadata": {},
   "outputs": [
    {
     "data": {
      "application/vnd.jupyter.widget-view+json": {
       "model_id": "89ac8addf1e243a38a1d72a731e07ec1",
       "version_major": 2,
       "version_minor": 0
      },
      "text/plain": [
       "BoundedIntText(value=0, description='Received message 1 from Party B', layout=Layout(height='50px', width='50%…"
      ]
     },
     "metadata": {},
     "output_type": "display_data"
    },
    {
     "data": {
      "application/vnd.jupyter.widget-view+json": {
       "model_id": "97953e3237ff48f1b3effad88bb1c117",
       "version_major": 2,
       "version_minor": 0
      },
      "text/plain": [
       "Text(value='Should be an array', description='Received message 2 from Party B', layout=Layout(height='50px', w…"
      ]
     },
     "metadata": {},
     "output_type": "display_data"
    }
   ],
   "source": [
    "msg1_fromB = widgets.BoundedIntText(value='0',max=1000000,\\\n",
    "            description='Received message 1 from Party B', style=style, layout=uniLayout)\n",
    "msg2_fromB = widgets.Text(value='Should be an array',description='Received message 2 from Party B', style=style, layout=uniLayout)\n",
    "display(msg1_fromB, msg2_fromB)"
   ]
  },
  {
   "cell_type": "code",
   "execution_count": 8,
   "metadata": {},
   "outputs": [
    {
     "ename": "ValueError",
     "evalue": "invalid literal for int() with base 10: ''",
     "output_type": "error",
     "traceback": [
      "\u001b[0;31m---------------------------------------------------------------------------\u001b[0m",
      "\u001b[0;31mValueError\u001b[0m                                Traceback (most recent call last)",
      "\u001b[0;32m<ipython-input-8-a5fa83abc29a>\u001b[0m in \u001b[0;36m<module>\u001b[0;34m()\u001b[0m\n\u001b[1;32m      1\u001b[0m \u001b[0mSum_noises_AB\u001b[0m \u001b[0;34m=\u001b[0m \u001b[0mmsg1_fromB\u001b[0m\u001b[0;34m.\u001b[0m\u001b[0mvalue\u001b[0m\u001b[0;34m\u001b[0m\u001b[0;34m\u001b[0m\u001b[0m\n\u001b[0;32m----> 2\u001b[0;31m \u001b[0mSum_noises_B\u001b[0m \u001b[0;34m=\u001b[0m \u001b[0;34m[\u001b[0m\u001b[0mint\u001b[0m\u001b[0;34m(\u001b[0m\u001b[0mi\u001b[0m\u001b[0;34m)\u001b[0m \u001b[0;32mfor\u001b[0m \u001b[0mi\u001b[0m \u001b[0;32min\u001b[0m \u001b[0mmsg2_fromB\u001b[0m\u001b[0;34m.\u001b[0m\u001b[0mvalue\u001b[0m\u001b[0;34m.\u001b[0m\u001b[0msplit\u001b[0m\u001b[0;34m(\u001b[0m\u001b[0;34m' '\u001b[0m\u001b[0;34m)\u001b[0m\u001b[0;34m]\u001b[0m\u001b[0;34m\u001b[0m\u001b[0;34m\u001b[0m\u001b[0m\n\u001b[0m\u001b[1;32m      3\u001b[0m \u001b[0;34m\u001b[0m\u001b[0m\n\u001b[1;32m      4\u001b[0m \u001b[0mA_randoms_Sumset\u001b[0m\u001b[0;34m,\u001b[0m \u001b[0mSum_noises_B_Arand\u001b[0m\u001b[0;34m,\u001b[0m \u001b[0mXaTXa\u001b[0m \u001b[0;34m=\u001b[0m \u001b[0mcommunication_at_A\u001b[0m\u001b[0;34m(\u001b[0m\u001b[0mX_a\u001b[0m\u001b[0;34m,\u001b[0m \u001b[0mA_randoms\u001b[0m\u001b[0;34m,\u001b[0m                                                                  \u001b[0mSum_noises_AB\u001b[0m\u001b[0;34m,\u001b[0m \u001b[0mSum_noises_B\u001b[0m\u001b[0;34m,\u001b[0m \u001b[0mB_divide_set\u001b[0m\u001b[0;34m)\u001b[0m\u001b[0;34m\u001b[0m\u001b[0;34m\u001b[0m\u001b[0m\n\u001b[1;32m      5\u001b[0m \u001b[0mprint\u001b[0m\u001b[0;34m(\u001b[0m\u001b[0mSum_noises_B_Arand\u001b[0m\u001b[0;34m)\u001b[0m\u001b[0;34m\u001b[0m\u001b[0;34m\u001b[0m\u001b[0m\n",
      "\u001b[0;32m<ipython-input-8-a5fa83abc29a>\u001b[0m in \u001b[0;36m<listcomp>\u001b[0;34m(.0)\u001b[0m\n\u001b[1;32m      1\u001b[0m \u001b[0mSum_noises_AB\u001b[0m \u001b[0;34m=\u001b[0m \u001b[0mmsg1_fromB\u001b[0m\u001b[0;34m.\u001b[0m\u001b[0mvalue\u001b[0m\u001b[0;34m\u001b[0m\u001b[0;34m\u001b[0m\u001b[0m\n\u001b[0;32m----> 2\u001b[0;31m \u001b[0mSum_noises_B\u001b[0m \u001b[0;34m=\u001b[0m \u001b[0;34m[\u001b[0m\u001b[0mint\u001b[0m\u001b[0;34m(\u001b[0m\u001b[0mi\u001b[0m\u001b[0;34m)\u001b[0m \u001b[0;32mfor\u001b[0m \u001b[0mi\u001b[0m \u001b[0;32min\u001b[0m \u001b[0mmsg2_fromB\u001b[0m\u001b[0;34m.\u001b[0m\u001b[0mvalue\u001b[0m\u001b[0;34m.\u001b[0m\u001b[0msplit\u001b[0m\u001b[0;34m(\u001b[0m\u001b[0;34m' '\u001b[0m\u001b[0;34m)\u001b[0m\u001b[0;34m]\u001b[0m\u001b[0;34m\u001b[0m\u001b[0;34m\u001b[0m\u001b[0m\n\u001b[0m\u001b[1;32m      3\u001b[0m \u001b[0;34m\u001b[0m\u001b[0m\n\u001b[1;32m      4\u001b[0m \u001b[0mA_randoms_Sumset\u001b[0m\u001b[0;34m,\u001b[0m \u001b[0mSum_noises_B_Arand\u001b[0m\u001b[0;34m,\u001b[0m \u001b[0mXaTXa\u001b[0m \u001b[0;34m=\u001b[0m \u001b[0mcommunication_at_A\u001b[0m\u001b[0;34m(\u001b[0m\u001b[0mX_a\u001b[0m\u001b[0;34m,\u001b[0m \u001b[0mA_randoms\u001b[0m\u001b[0;34m,\u001b[0m                                                                  \u001b[0mSum_noises_AB\u001b[0m\u001b[0;34m,\u001b[0m \u001b[0mSum_noises_B\u001b[0m\u001b[0;34m,\u001b[0m \u001b[0mB_divide_set\u001b[0m\u001b[0;34m)\u001b[0m\u001b[0;34m\u001b[0m\u001b[0;34m\u001b[0m\u001b[0m\n\u001b[1;32m      5\u001b[0m \u001b[0mprint\u001b[0m\u001b[0;34m(\u001b[0m\u001b[0mSum_noises_B_Arand\u001b[0m\u001b[0;34m)\u001b[0m\u001b[0;34m\u001b[0m\u001b[0;34m\u001b[0m\u001b[0m\n",
      "\u001b[0;31mValueError\u001b[0m: invalid literal for int() with base 10: ''"
     ]
    }
   ],
   "source": [
    "Sum_noises_AB = msg1_fromB.value\n",
    "Sum_noises_B = [int(i) for i in msg2_fromB.value.split(' ')]\n",
    "\n",
    "A_randoms_Sumset, Sum_noises_B_Arand, XaTXa = communication_at_A(X_a, A_randoms, \\\n",
    "                                                                 Sum_noises_AB, Sum_noises_B, B_divide_set)\n",
    "print(Sum_noises_B_Arand)\n",
    "print(A_randoms_Sumset)\n",
    "\n"
   ]
  },
  {
   "cell_type": "code",
   "execution_count": null,
   "metadata": {},
   "outputs": [],
   "source": [
    "# X_a"
   ]
  },
  {
   "cell_type": "code",
   "execution_count": 9,
   "metadata": {},
   "outputs": [
    {
     "ename": "ValueError",
     "evalue": "invalid literal for int() with base 10: ''",
     "output_type": "error",
     "traceback": [
      "\u001b[0;31m---------------------------------------------------------------------------\u001b[0m",
      "\u001b[0;31mValueError\u001b[0m                                Traceback (most recent call last)",
      "\u001b[0;32m<ipython-input-9-d2e43a7a5f2b>\u001b[0m in \u001b[0;36m<module>\u001b[0;34m()\u001b[0m\n\u001b[0;32m----> 1\u001b[0;31m \u001b[0;34m[\u001b[0m\u001b[0mint\u001b[0m\u001b[0;34m(\u001b[0m\u001b[0mi\u001b[0m\u001b[0;34m)\u001b[0m \u001b[0;32mfor\u001b[0m \u001b[0mi\u001b[0m \u001b[0;32min\u001b[0m \u001b[0mmsg2_fromB\u001b[0m\u001b[0;34m.\u001b[0m\u001b[0mvalue\u001b[0m\u001b[0;34m.\u001b[0m\u001b[0msplit\u001b[0m\u001b[0;34m(\u001b[0m\u001b[0;34m' '\u001b[0m\u001b[0;34m)\u001b[0m\u001b[0;34m]\u001b[0m\u001b[0;34m\u001b[0m\u001b[0;34m\u001b[0m\u001b[0m\n\u001b[0m",
      "\u001b[0;32m<ipython-input-9-d2e43a7a5f2b>\u001b[0m in \u001b[0;36m<listcomp>\u001b[0;34m(.0)\u001b[0m\n\u001b[0;32m----> 1\u001b[0;31m \u001b[0;34m[\u001b[0m\u001b[0mint\u001b[0m\u001b[0;34m(\u001b[0m\u001b[0mi\u001b[0m\u001b[0;34m)\u001b[0m \u001b[0;32mfor\u001b[0m \u001b[0mi\u001b[0m \u001b[0;32min\u001b[0m \u001b[0mmsg2_fromB\u001b[0m\u001b[0;34m.\u001b[0m\u001b[0mvalue\u001b[0m\u001b[0;34m.\u001b[0m\u001b[0msplit\u001b[0m\u001b[0;34m(\u001b[0m\u001b[0;34m' '\u001b[0m\u001b[0;34m)\u001b[0m\u001b[0;34m]\u001b[0m\u001b[0;34m\u001b[0m\u001b[0;34m\u001b[0m\u001b[0m\n\u001b[0m",
      "\u001b[0;31mValueError\u001b[0m: invalid literal for int() with base 10: ''"
     ]
    }
   ],
   "source": [
    "[int(i) for i in msg2_fromB.value.split(' ')]"
   ]
  },
  {
   "cell_type": "code",
   "execution_count": null,
   "metadata": {},
   "outputs": [],
   "source": []
  }
 ],
 "metadata": {
  "kernelspec": {
   "display_name": "Python 3",
   "language": "python",
   "name": "python3"
  },
  "language_info": {
   "codemirror_mode": {
    "name": "ipython",
    "version": 3
   },
   "file_extension": ".py",
   "mimetype": "text/x-python",
   "name": "python",
   "nbconvert_exporter": "python",
   "pygments_lexer": "ipython3",
   "version": "3.6.8"
  }
 },
 "nbformat": 4,
 "nbformat_minor": 2
}
