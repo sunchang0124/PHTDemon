{
 "cells": [
  {
   "cell_type": "markdown",
   "metadata": {},
   "source": [
    "# FAIRHealth PHT PPDML"
   ]
  },
  {
   "cell_type": "code",
   "execution_count": 1,
   "metadata": {},
   "outputs": [],
   "source": [
    "import requests\n",
    "import json\n",
    "import uuid\n",
    "import time\n",
    "from IPython.display import Image\n",
    "from IPython.core.display import HTML \n",
    "\n",
    "import ipywidgets as widgets\n",
    "from ipywidgets import interact, interactive, interact_manual, Layout, Button"
   ]
  },
  {
   "cell_type": "code",
   "execution_count": 2,
   "metadata": {},
   "outputs": [],
   "source": [
    "signalStation = \"http://vwdata.personalhealthtrain.net\"\n",
    "\n",
    "def getStations(signalStation):\n",
    "    response = requests.get(signalStation + \"/client\")\n",
    "    return json.loads(response.text)\n",
    "\n",
    "def defineTrain(image, inputVars, runId):\n",
    "    return {\n",
    "        \"image\": image,\n",
    "        \"inputString\": (\"%s\" % json.dumps(inputVars)),\n",
    "        \"runId\": runId\n",
    "    }\n",
    "\n",
    "def requestExecution(signalStation, clientId, taskDescription):\n",
    "    response = requests.post(signalStation + \"/client/\" + str(clientId) + \"/task/add\", json=taskDescription)\n",
    "    taskId = json.loads(response.text)[\"taskId\"]\n",
    "    return taskId\n",
    "\n",
    "def getExecutionResult(signalStation, clientId, taskId, wait=True):\n",
    "    url = signalStation + \"/client/\" + str(clientId) + \"/task/\" + str(taskId) + \"/result\"\n",
    "    print(url)\n",
    "    jsonResult = json.loads(requests.get(url).text)\n",
    "    \n",
    "    while len(jsonResult)==0 & wait:\n",
    "        time.sleep(2)\n",
    "        jsonResult = json.loads(requests.get(url).text)\n",
    "    \n",
    "    return jsonResult"
   ]
  },
  {
   "cell_type": "markdown",
   "metadata": {},
   "source": [
    "## Set up for two data stations (two parties)"
   ]
  },
  {
   "cell_type": "code",
   "execution_count": 3,
   "metadata": {},
   "outputs": [
    {
     "data": {
      "text/html": [
       "<img src=\"https://github.com/sunchang0124/PHTDemon/blob/master/Pics/demonPic2.png?raw=true\" width=\"600\" height=\"600\"/>"
      ],
      "text/plain": [
       "<IPython.core.display.Image object>"
      ]
     },
     "execution_count": 3,
     "metadata": {},
     "output_type": "execute_result"
    }
   ],
   "source": [
    "Image(url= \"https://github.com/sunchang0124/PHTDemon/blob/master/Pics/demonPic2.png?raw=true\", width=600, height=600)"
   ]
  },
  {
   "cell_type": "code",
   "execution_count": 4,
   "metadata": {},
   "outputs": [
    {
     "data": {
      "text/plain": [
       "[{'country': 'The Netherlands',\n",
       "  'email': 'johan.vansoest@maastro.nl',\n",
       "  'id': 1,\n",
       "  'institute': 'Maastricht University',\n",
       "  'ip': '192.168.96.1',\n",
       "  'last_seen': '2019-05-28 15:09:30.599025',\n",
       "  'name': 'The Maastricht Study'},\n",
       " {'country': 'Netherlands',\n",
       "  'email': 'johan.vansoest@maastro.nl',\n",
       "  'id': 2,\n",
       "  'institute': 'MAASTRO Clinic',\n",
       "  'ip': '192.168.96.1',\n",
       "  'last_seen': '2019-05-28 15:09:31.622865',\n",
       "  'name': 'VWData Station Maastro'}]"
      ]
     },
     "execution_count": 4,
     "metadata": {},
     "output_type": "execute_result"
    }
   ],
   "source": [
    "getStations(signalStation)"
   ]
  },
  {
   "cell_type": "markdown",
   "metadata": {},
   "source": [
    "## This is data party B"
   ]
  },
  {
   "cell_type": "code",
   "execution_count": 5,
   "metadata": {},
   "outputs": [],
   "source": [
    "def stage_B1(event):\n",
    "    \n",
    "    results = getExecutionResult(signalStation, input_clientID.value, input_taskID.value)\n",
    "    result = json.loads(results[0][\"response\"])\n",
    "\n",
    "    inputB = input_data_B.value.split(';')\n",
    "    columnsNum = len(inputB)\n",
    "    item = []\n",
    "    for i in range(0, columnsNum):\n",
    "        item.append([int(i) for i in inputB[0].split(',')])\n",
    "\n",
    "    \n",
    "    result[\"stage\"] = 2\n",
    "    result[\"dataB\"] = item\n",
    "    mySecondTrain = defineTrain(\"sophia921025/ppdml_demon\", result, 1)\n",
    "\n",
    "    clientId = 2\n",
    "    taskId = requestExecution(signalStation, clientId, mySecondTrain)\n",
    "    print(\"Task submitted with ID: %s\" % taskId)\n",
    "\n",
    "    resultsSecond = getExecutionResult(signalStation, clientId, taskId)\n",
    "    print(resultsSecond[0][\"log\"])\n",
    "    resultSecond = json.loads(resultsSecond[0][\"response\"])\n",
    "    print(resultSecond.keys())\n",
    "\n",
    "    display(Image(url= \"https://github.com/sunchang0124/PHTDemon/blob/master/Pics/demonPic7.png?raw=true\", width=600, height=600))\n",
    "    display(Image(url= \"https://github.com/sunchang0124/PHTDemon/blob/master/Pics/demonPic8.png?raw=true\", width=600, height=600))\n",
    "    display(Image(url= \"https://github.com/sunchang0124/PHTDemon/blob/master/Pics/demonPic9.png?raw=true\", width=600, height=600))\n",
    "\n",
    "    sumNoisesAB = resultSecond[\"sumNoisesAB\"]\n",
    "    event.value = sumNoisesAB\n"
   ]
  },
  {
   "cell_type": "code",
   "execution_count": 6,
   "metadata": {},
   "outputs": [
    {
     "data": {
      "application/vnd.jupyter.widget-view+json": {
       "model_id": "c3d561f05884499b9d4d8114a0e42bd5",
       "version_major": 2,
       "version_minor": 0
      },
      "text/plain": [
       "BoundedIntText(value=1, description='Retrieve intermediate result from Client ID:', layout=Layout(height='30px…"
      ]
     },
     "metadata": {},
     "output_type": "display_data"
    },
    {
     "data": {
      "application/vnd.jupyter.widget-view+json": {
       "model_id": "8e465613370445589bebab5033212757",
       "version_major": 2,
       "version_minor": 0
      },
      "text/plain": [
       "BoundedIntText(value=150, description='Retrieve intermediate result from Task ID:', layout=Layout(height='30px…"
      ]
     },
     "metadata": {},
     "output_type": "display_data"
    },
    {
     "data": {
      "application/vnd.jupyter.widget-view+json": {
       "model_id": "af6f031a1a0941e4b6f793675d844487",
       "version_major": 2,
       "version_minor": 0
      },
      "text/plain": [
       "Text(value='', description='Input data B (comma separate): ', layout=Layout(height='30px', width='50%'), style…"
      ]
     },
     "metadata": {},
     "output_type": "display_data"
    },
    {
     "data": {
      "application/vnd.jupyter.widget-view+json": {
       "model_id": "c02f6d6091074df889aa86b909e52732",
       "version_major": 2,
       "version_minor": 0
      },
      "text/plain": [
       "Button(button_style='success', description='Run', style=ButtonStyle())"
      ]
     },
     "metadata": {},
     "output_type": "display_data"
    },
    {
     "name": "stdout",
     "output_type": "stream",
     "text": [
      "http://vwdata.personalhealthtrain.net/client/1/task/149/result\n",
      "Task submitted with ID: 150\n",
      "http://vwdata.personalhealthtrain.net/client/2/task/150/result\n",
      "Stage: 2\n",
      "\n",
      "\n",
      "=======================INTERNAL FILE LOG===================== \n",
      "\n",
      "dict_keys(['sumNoisesAB', 'sumNoisesB'])\n"
     ]
    },
    {
     "data": {
      "text/html": [
       "<img src=\"https://github.com/sunchang0124/PHTDemon/blob/master/Pics/demonPic7.png?raw=true\" width=\"600\" height=\"600\"/>"
      ],
      "text/plain": [
       "<IPython.core.display.Image object>"
      ]
     },
     "metadata": {},
     "output_type": "display_data"
    },
    {
     "data": {
      "text/html": [
       "<img src=\"https://github.com/sunchang0124/PHTDemon/blob/master/Pics/demonPic8.png?raw=true\" width=\"600\" height=\"600\"/>"
      ],
      "text/plain": [
       "<IPython.core.display.Image object>"
      ]
     },
     "metadata": {},
     "output_type": "display_data"
    },
    {
     "data": {
      "text/html": [
       "<img src=\"https://github.com/sunchang0124/PHTDemon/blob/master/Pics/demonPic9.png?raw=true\" width=\"600\" height=\"600\"/>"
      ],
      "text/plain": [
       "<IPython.core.display.Image object>"
      ]
     },
     "metadata": {},
     "output_type": "display_data"
    }
   ],
   "source": [
    "#### Demon: Give your data here: ####\n",
    "style = {'description_width': 'initial'}\n",
    "uniLayout = Layout(width='50%', height='30px')\n",
    "\n",
    "input_clientID = widgets.BoundedIntText(value=1,max=100,description='Retrieve intermediate result from Client ID:',disabled=False, style=style, layout=uniLayout)\n",
    "input_taskID = widgets.BoundedIntText(value=150,max=10000,description='Retrieve intermediate result from Task ID:',disabled=False, style=style, layout=uniLayout)\n",
    "input_data_B = widgets.Text(value='1,2,3,2,1;2,2,1,4,3', description='Input data B (comma separate): ', style=style, layout=uniLayout)\n",
    "button1 = Button(description=\"Run\", button_style='success', value=None)\n",
    "\n",
    "button1.on_click(stage_B1)\n",
    "display(input_clientID, input_taskID, input_data_B, button1)"
   ]
  },
  {
   "cell_type": "code",
   "execution_count": null,
   "metadata": {},
   "outputs": [],
   "source": [
    "- - - - - - - - - - - - - - - - - - - - - - - - - - - - - - - - - - - - - - - - - - - - - - - - - -"
   ]
  },
  {
   "cell_type": "markdown",
   "metadata": {},
   "source": [
    "## Calculate final outcome"
   ]
  },
  {
   "cell_type": "code",
   "execution_count": 7,
   "metadata": {},
   "outputs": [],
   "source": [
    "def stage_B2(event2):\n",
    "    results = getExecutionResult(signalStation, input_clientID.value, input_taskID.value)\n",
    "    resultThird = json.loads(results[0][\"response\"])\n",
    "\n",
    "    resultThird[\"stage\"] = 4\n",
    "    resultThird[\"sumNoisesAB\"] = sumNoisesAB\n",
    "    \n",
    "    myFourthTrain = defineTrain(\"sophia921025/fairhealth_test\", resultThird, 1)\n",
    "    print(resultThird.keys())\n",
    "\n",
    "    clientId = 2\n",
    "    taskId = requestExecution(signalStation, clientId, myFourthTrain)\n",
    "    print(\"Task submitted with ID: %s\" % taskId)\n",
    "\n",
    "    resultsFourth = getExecutionResult(signalStation, clientId, taskId)\n",
    "    print(resultsFourth[0][\"log\"])\n",
    "    resultFourth = json.loads(resultsFourth[0][\"response\"])"
   ]
  },
  {
   "cell_type": "code",
   "execution_count": 9,
   "metadata": {},
   "outputs": [
    {
     "data": {
      "application/vnd.jupyter.widget-view+json": {
       "model_id": "6686998d5cfc48a2b82f3cd3ec82cb73",
       "version_major": 2,
       "version_minor": 0
      },
      "text/plain": [
       "BoundedIntText(value=1, description='Retrieve intermediate result from Client ID:', layout=Layout(height='30px…"
      ]
     },
     "metadata": {},
     "output_type": "display_data"
    },
    {
     "data": {
      "application/vnd.jupyter.widget-view+json": {
       "model_id": "bddf097f848042f58d6f4c10ded6a1d6",
       "version_major": 2,
       "version_minor": 0
      },
      "text/plain": [
       "BoundedIntText(value=151, description='Retrieve intermediate result from Task ID:', layout=Layout(height='30px…"
      ]
     },
     "metadata": {},
     "output_type": "display_data"
    },
    {
     "data": {
      "application/vnd.jupyter.widget-view+json": {
       "model_id": "f73293b56f1e4029bbc65b8e402a1629",
       "version_major": 2,
       "version_minor": 0
      },
      "text/plain": [
       "Button(button_style='success', description='Run', style=ButtonStyle())"
      ]
     },
     "metadata": {},
     "output_type": "display_data"
    },
    {
     "name": "stdout",
     "output_type": "stream",
     "text": [
      "http://vwdata.personalhealthtrain.net/client/1/task/151/result\n",
      "dict_keys(['randomsSumSet', 'sumNoisesBARand', 'XaTXa', 'stage', 'sumNoisesAB'])\n",
      "Task submitted with ID: 152\n",
      "http://vwdata.personalhealthtrain.net/client/2/task/152/result\n",
      "Stage: 4\n",
      "XaTXa: 10 - 10\n",
      "XbTXa: 10 - 1\n",
      "XaTXb: 4 - 1\n",
      "XbTXb: 5 - 1\n",
      "XbTXb_exclY: 4 - 1\n",
      "Coefficients: \n",
      " [[-1.15678321e+01]\n",
      " [-4.89996193e+00]\n",
      " [-6.35477806e+01]\n",
      " [-2.85351329e+00]\n",
      " [ 2.17420659e-01]\n",
      " [ 3.14462563e+00]\n",
      " [ 1.02737671e+02]\n",
      " [-1.13506411e+01]\n",
      " [-3.14968709e+02]\n",
      " [-2.84356047e+02]\n",
      " [ 1.00324224e+02]\n",
      " [ 7.45891879e-01]\n",
      " [ 1.47713293e-02]]\n",
      "Intercept:  -9.219794829436864\n",
      "\n",
      "\n",
      "=======================INTERNAL FILE LOG===================== \n",
      "\n"
     ]
    }
   ],
   "source": [
    "sumNoisesAB = button1.value\n",
    "\n",
    "input_clientID = widgets.BoundedIntText(value=1,max=100,description='Retrieve intermediate result from Client ID:',disabled=False, style=style, layout=uniLayout)\n",
    "input_taskID = widgets.BoundedIntText(value=151,max=10000,description='Retrieve intermediate result from Task ID:',disabled=False, style=style, layout=uniLayout)\n",
    "button2 = Button(description=\"Run\", button_style='success', value=None)\n",
    "\n",
    "button2.on_click(stage_B2)\n",
    "display(input_clientID, input_taskID, button2)"
   ]
  },
  {
   "cell_type": "code",
   "execution_count": null,
   "metadata": {},
   "outputs": [],
   "source": []
  }
 ],
 "metadata": {
  "kernelspec": {
   "display_name": "Python 3",
   "language": "python",
   "name": "python3"
  },
  "language_info": {
   "codemirror_mode": {
    "name": "ipython",
    "version": 3
   },
   "file_extension": ".py",
   "mimetype": "text/x-python",
   "name": "python",
   "nbconvert_exporter": "python",
   "pygments_lexer": "ipython3",
   "version": "3.6.8"
  }
 },
 "nbformat": 4,
 "nbformat_minor": 2
}
