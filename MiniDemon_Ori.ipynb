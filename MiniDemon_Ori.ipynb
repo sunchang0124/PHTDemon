{
 "cells": [
  {
   "cell_type": "code",
   "execution_count": 1,
   "metadata": {},
   "outputs": [],
   "source": [
    "import time\n",
    "import pandas as pd\n",
    "import numpy as np\n",
    "import requests\n",
    "import json\n",
    "import ipywidgets as widgets\n",
    "from numpy.linalg import inv"
   ]
  },
  {
   "cell_type": "code",
   "execution_count": 2,
   "metadata": {},
   "outputs": [],
   "source": [
    "### Start at A ###\n",
    "def start_at_A(X_a, C_seed, C_min, C_max): # df: import data in DataFrame Format\n",
    "\n",
    "    # Generate random numbers and add to data at Data Site A\n",
    "#     np.random.seed(0)\n",
    "    A_randoms = np.random.randint(C_min, C_max, len(X_a))\n",
    "        \n",
    "    # C_noises is shared between A and B \n",
    "    np.random.seed(C_seed)\n",
    "    C_matrix = np.random.randint(C_min, C_max, (len(X_a), len(X_a)))\n",
    "\n",
    "    Sum_noises_A = np.add(X_a, np.dot(C_matrix.transpose(), A_randoms)) # which will be sent to B\n",
    "\n",
    "    return np.array(A_randoms), np.array(Sum_noises_A), \n",
    "\n",
    "def communication_at_A(X_a, A_randoms, Sum_noises_AB, Sum_noises_B, B_divide_set):\n",
    "    \n",
    "    ### At site A ###\n",
    "    A_randoms_Sumset = []\n",
    "\n",
    "    for j in range(0, int(len(X_a)/B_divide_set)):\n",
    "        temp = 0\n",
    "        for k in range(0, B_divide_set):\n",
    "            temp = temp + A_randoms[B_divide_set*j + k]\n",
    "        A_randoms_Sumset.append(temp)\n",
    "    \n",
    "    Sum_noises_B_Arand = np.subtract(Sum_noises_AB, np.dot(A_randoms,Sum_noises_B))\n",
    "\n",
    "    # Calculate X_a.T * X_a locally at data site A \n",
    "    XaTXa = np.matrix(X_a).T * np.matrix(X_a)\n",
    "\n",
    "    \n",
    "    return np.array(A_randoms_Sumset), np.array(Sum_noises_B_Arand), np.array(XaTXa)"
   ]
  },
  {
   "cell_type": "code",
   "execution_count": 3,
   "metadata": {},
   "outputs": [],
   "source": [
    "style = {'description_width': 'initial'}\n",
    "uniLayout = widgets.Layout(width='50%', height='50px')\n",
    "\n",
    "Q0 = widgets.RadioButtons(\n",
    "    options=['No', 'Yes'],\n",
    "    description='Are you a meat lover?',\n",
    "    style=style, \n",
    "    layout=uniLayout\n",
    ")\n",
    "\n",
    "Q1 = widgets.RadioButtons(\n",
    "    options=['Hell No', 'YES!'],\n",
    "    description='Do you like pizza with pineapple on top?',\n",
    "    style=style, \n",
    "    layout=uniLayout\n",
    ")\n",
    "\n",
    "Q2 = widgets.RadioButtons(\n",
    "    options=['No', 'Yes'],\n",
    "    description='Do you add sugar in coffee?',\n",
    "    style=style, \n",
    "    layout=uniLayout\n",
    ")\n",
    "\n",
    "Q3 = widgets.RadioButtons(\n",
    "    options=['No, only salt', 'Tons of sauce'],\n",
    "    description='Do you eat fries with sauce?',\n",
    "    style=style, \n",
    "    layout=uniLayout\n",
    ")\n",
    "\n",
    "Q4 = widgets.RadioButtons(\n",
    "    options=['OMG, NO', 'LOVE'],\n",
    "    description='Do you like eating haring?',\n",
    "    style=style, \n",
    "    layout=uniLayout\n",
    ")\n",
    "\n",
    "Q5 = widgets.RadioButtons(\n",
    "    options=['Nope', 'Sure, what else?'],\n",
    "    description='Do you frequently eat potatoes?',\n",
    "    style=style, \n",
    "    layout=uniLayout\n",
    ")"
   ]
  },
  {
   "cell_type": "code",
   "execution_count": 4,
   "metadata": {},
   "outputs": [
    {
     "data": {
      "application/vnd.jupyter.widget-view+json": {
       "model_id": "f3ef4089cb9c48d3a37d9fc4d5eec32e",
       "version_major": 2,
       "version_minor": 0
      },
      "text/plain": [
       "RadioButtons(description='Are you a meat lover?', layout=Layout(height='50px', width='50%'), options=('No', 'Y…"
      ]
     },
     "metadata": {},
     "output_type": "display_data"
    },
    {
     "data": {
      "application/vnd.jupyter.widget-view+json": {
       "model_id": "e27afaef42c643db9b5e783518a0f5c8",
       "version_major": 2,
       "version_minor": 0
      },
      "text/plain": [
       "RadioButtons(description='Do you like pizza with pineapple on top?', layout=Layout(height='50px', width='50%')…"
      ]
     },
     "metadata": {},
     "output_type": "display_data"
    },
    {
     "data": {
      "application/vnd.jupyter.widget-view+json": {
       "model_id": "c42a62af3f824c06bb42e5f849fdf6f1",
       "version_major": 2,
       "version_minor": 0
      },
      "text/plain": [
       "RadioButtons(description='Do you add sugar in coffee?', layout=Layout(height='50px', width='50%'), options=('N…"
      ]
     },
     "metadata": {},
     "output_type": "display_data"
    },
    {
     "data": {
      "application/vnd.jupyter.widget-view+json": {
       "model_id": "b602d0154a1b4d0b91509d979f48ed08",
       "version_major": 2,
       "version_minor": 0
      },
      "text/plain": [
       "RadioButtons(description='Do you eat fries with sauce?', layout=Layout(height='50px', width='50%'), options=('…"
      ]
     },
     "metadata": {},
     "output_type": "display_data"
    },
    {
     "data": {
      "application/vnd.jupyter.widget-view+json": {
       "model_id": "7de5509aefea431c8f6117e3bdd045fb",
       "version_major": 2,
       "version_minor": 0
      },
      "text/plain": [
       "RadioButtons(description='Do you like eating haring?', layout=Layout(height='50px', width='50%'), options=('OM…"
      ]
     },
     "metadata": {},
     "output_type": "display_data"
    },
    {
     "data": {
      "application/vnd.jupyter.widget-view+json": {
       "model_id": "7a5f188122cf4d7cb532f5539afcd83a",
       "version_major": 2,
       "version_minor": 0
      },
      "text/plain": [
       "RadioButtons(description='Do you frequently eat potatoes?', layout=Layout(height='50px', width='50%'), options…"
      ]
     },
     "metadata": {},
     "output_type": "display_data"
    }
   ],
   "source": [
    "display(Q0, Q1, Q2, Q3, Q4, Q5)"
   ]
  },
  {
   "cell_type": "code",
   "execution_count": 16,
   "metadata": {},
   "outputs": [
    {
     "name": "stdout",
     "output_type": "stream",
     "text": [
      "[30 26 31 35 30 27]\n"
     ]
    }
   ],
   "source": [
    "C_seed = 1\n",
    "C_min = 0\n",
    "C_max = 5\n",
    "B_divide_set = 3\n",
    "X_a = np.array([Q0.index,Q1.index,Q2.index,Q3.index,Q4.index,Q5.index])\n",
    "A_randoms, Sum_noises_A = start_at_A(X_a, C_seed, C_min, C_max)\n",
    "# print(X_a)\n",
    "# print(A_randoms)\n",
    "print(Sum_noises_A)"
   ]
  },
  {
   "cell_type": "code",
   "execution_count": 17,
   "metadata": {},
   "outputs": [],
   "source": [
    "################################################################\n",
    "### At site B ###\n",
    "################################################################\n",
    "def start_at_B(X_b, C_seed, C_min, C_max, Sum_noises_A, B_divide_set): # df: import data in DataFrame Format\n",
    "    \n",
    "    np.random.seed(C_seed) # seeds, range of C_noises is shared between A and B \n",
    "    C_matrix = np.random.randint(C_min ,C_max , (len(Sum_noises_A), len(Sum_noises_A)))\n",
    "\n",
    "    Sum_coef_B = []\n",
    "    for j in range(0, len(Sum_noises_A)):\n",
    "        Sum_coef_B.append(np.dot(C_matrix[j].transpose(), X_b)) \n",
    "\n",
    "\n",
    "    np.random.seed(0)\n",
    "    B_random_set = np.random.randint(0,5, int(len(X_b)/B_divide_set))\n",
    "\n",
    "                                 \n",
    "    B_random_inter = []\n",
    "    for j in range(0, len(B_random_set)): \n",
    "        for k in range(0, B_divide_set):\n",
    "            B_random_inter.append(B_random_set[j])\n",
    "\n",
    "    Sum_noises_B = np.array(Sum_coef_B) + np.array(B_random_inter)\n",
    "\n",
    "    # Add noises dataset A to the dataset B\n",
    "    Sum_noises_AB = np.dot(Sum_noises_A, X_b)\n",
    "\n",
    "    return np.array(B_random_set), np.array(Sum_noises_AB), np.array(Sum_noises_B)"
   ]
  },
  {
   "cell_type": "code",
   "execution_count": 27,
   "metadata": {},
   "outputs": [],
   "source": [
    "style = {'description_width': 'initial'}\n",
    "uniLayout = widgets.Layout(width='50%', height='50px')\n",
    "\n",
    "Q0B = widgets.RadioButtons(\n",
    "    options=['No', 'Yes'],\n",
    "    description='Are you a meat lover?',\n",
    "    style=style, \n",
    "    layout=uniLayout\n",
    ")\n",
    "\n",
    "Q1B = widgets.RadioButtons(\n",
    "    options=['Hell No', 'YES!'],\n",
    "    description='Do you like pizza with pineapple on top?',\n",
    "    style=style, \n",
    "    layout=uniLayout\n",
    ")\n",
    "\n",
    "Q2B = widgets.RadioButtons(\n",
    "    options=['No', 'Yes'],\n",
    "    description='Do you add sugar in coffee?',\n",
    "    style=style, \n",
    "    layout=uniLayout\n",
    ")\n",
    "\n",
    "Q3B = widgets.RadioButtons(\n",
    "    options=['No, only salt', 'Tons of sauce'],\n",
    "    description='Do you eat fries with sauce?',\n",
    "    style=style, \n",
    "    layout=uniLayout\n",
    ")\n",
    "\n",
    "Q4B = widgets.RadioButtons(\n",
    "    options=['OMG, NO', 'LOVE'],\n",
    "    description='Do you like eating haring?',\n",
    "    style=style, \n",
    "    layout=uniLayout\n",
    ")\n",
    "\n",
    "Q5B = widgets.RadioButtons(\n",
    "    options=['Nope', 'Sure, what else?'],\n",
    "    description='Do you frequently eat potatoes?',\n",
    "    style=style, \n",
    "    layout=uniLayout\n",
    ")"
   ]
  },
  {
   "cell_type": "code",
   "execution_count": 28,
   "metadata": {},
   "outputs": [
    {
     "data": {
      "application/vnd.jupyter.widget-view+json": {
       "model_id": "4a6e2c3c3a82458ca32ab0f9c68f245f",
       "version_major": 2,
       "version_minor": 0
      },
      "text/plain": [
       "RadioButtons(description='Are you a meat lover?', layout=Layout(height='50px', width='50%'), options=('No', 'Y…"
      ]
     },
     "metadata": {},
     "output_type": "display_data"
    },
    {
     "data": {
      "application/vnd.jupyter.widget-view+json": {
       "model_id": "aa674e401ae14bf3a3b429734b714daa",
       "version_major": 2,
       "version_minor": 0
      },
      "text/plain": [
       "RadioButtons(description='Do you like pizza with pineapple on top?', layout=Layout(height='50px', width='50%')…"
      ]
     },
     "metadata": {},
     "output_type": "display_data"
    },
    {
     "data": {
      "application/vnd.jupyter.widget-view+json": {
       "model_id": "936224c7296c45b2ab23e3dc6251ef82",
       "version_major": 2,
       "version_minor": 0
      },
      "text/plain": [
       "RadioButtons(description='Do you add sugar in coffee?', layout=Layout(height='50px', width='50%'), options=('N…"
      ]
     },
     "metadata": {},
     "output_type": "display_data"
    },
    {
     "data": {
      "application/vnd.jupyter.widget-view+json": {
       "model_id": "f57828095acc46b0b9c4fd41624f7bb4",
       "version_major": 2,
       "version_minor": 0
      },
      "text/plain": [
       "RadioButtons(description='Do you eat fries with sauce?', layout=Layout(height='50px', width='50%'), options=('…"
      ]
     },
     "metadata": {},
     "output_type": "display_data"
    },
    {
     "data": {
      "application/vnd.jupyter.widget-view+json": {
       "model_id": "16c298593d654160bf549d8e8acb1f13",
       "version_major": 2,
       "version_minor": 0
      },
      "text/plain": [
       "RadioButtons(description='Do you like eating haring?', layout=Layout(height='50px', width='50%'), options=('OM…"
      ]
     },
     "metadata": {},
     "output_type": "display_data"
    },
    {
     "data": {
      "application/vnd.jupyter.widget-view+json": {
       "model_id": "0b95328479974ccf8840a3a31d609054",
       "version_major": 2,
       "version_minor": 0
      },
      "text/plain": [
       "RadioButtons(description='Do you frequently eat potatoes?', layout=Layout(height='50px', width='50%'), options…"
      ]
     },
     "metadata": {},
     "output_type": "display_data"
    }
   ],
   "source": [
    "display(Q0B, Q1B, Q2B, Q3B, Q4B, Q5B)"
   ]
  },
  {
   "cell_type": "code",
   "execution_count": 29,
   "metadata": {},
   "outputs": [
    {
     "name": "stdout",
     "output_type": "stream",
     "text": [
      "[4 0]\n",
      "92\n",
      "[ 8 11 13  2  5  6]\n"
     ]
    }
   ],
   "source": [
    "B_divide_set = 3\n",
    "X_b = np.array([Q0B.index,Q1B.index,Q2B.index,Q3B.index,Q4B.index,Q5B.index])\n",
    "B_random_set, Sum_noises_AB, Sum_noises_B = start_at_B(X_b, C_seed, C_min, C_max, Sum_noises_A, B_divide_set)\n",
    "print(B_random_set)\n",
    "print(Sum_noises_AB)\n",
    "print(Sum_noises_B)"
   ]
  },
  {
   "cell_type": "code",
   "execution_count": 30,
   "metadata": {},
   "outputs": [],
   "source": [
    "# Sum_noises_AB = 76\n",
    "# Sum_noises_B = [7, 5, 10, 13, 6, 4]"
   ]
  },
  {
   "cell_type": "code",
   "execution_count": 31,
   "metadata": {},
   "outputs": [
    {
     "name": "stdout",
     "output_type": "stream",
     "text": [
      "[9 6]\n",
      "-33\n"
     ]
    }
   ],
   "source": [
    "A_randoms_Sumset, Sum_noises_B_Arand, XaTXa = communication_at_A(X_a, A_randoms, \\\n",
    "                                                                 Sum_noises_AB, Sum_noises_B, B_divide_set)\n",
    "print(A_randoms_Sumset)\n",
    "print(Sum_noises_B_Arand)"
   ]
  },
  {
   "cell_type": "code",
   "execution_count": 32,
   "metadata": {},
   "outputs": [],
   "source": [
    "################################################################\n",
    "################################################################\n",
    "def Final_at_B(X_b, A_randoms_Sumset, Sum_noises_B_Arand, XaTXa, B_random_set, B_divide_set):\n",
    "\n",
    "    ### At site B ###\n",
    "    rand_sums = 0\n",
    "\n",
    "    for j in range(0, len(B_random_set)):\n",
    "        rand_sums = rand_sums + A_randoms_Sumset[j] * B_random_set[j]\n",
    "    \n",
    "    outcomes = Sum_noises_B_Arand + rand_sums\n",
    "\n",
    "    return outcomes"
   ]
  },
  {
   "cell_type": "code",
   "execution_count": 33,
   "metadata": {},
   "outputs": [
    {
     "data": {
      "text/plain": [
       "3"
      ]
     },
     "execution_count": 33,
     "metadata": {},
     "output_type": "execute_result"
    }
   ],
   "source": [
    "Final_at_B(X_b, A_randoms_Sumset, Sum_noises_B_Arand, XaTXa, B_random_set, B_divide_set)"
   ]
  },
  {
   "cell_type": "code",
   "execution_count": 34,
   "metadata": {},
   "outputs": [
    {
     "data": {
      "text/plain": [
       "3"
      ]
     },
     "execution_count": 34,
     "metadata": {},
     "output_type": "execute_result"
    }
   ],
   "source": [
    "np.dot(np.array(X_a), np.array(X_b))"
   ]
  },
  {
   "cell_type": "code",
   "execution_count": null,
   "metadata": {},
   "outputs": [],
   "source": []
  },
  {
   "cell_type": "code",
   "execution_count": null,
   "metadata": {},
   "outputs": [],
   "source": []
  },
  {
   "cell_type": "code",
   "execution_count": 25,
   "metadata": {},
   "outputs": [
    {
     "data": {
      "text/plain": [
       "array([0, 0, 0, 0, 0, 0])"
      ]
     },
     "execution_count": 25,
     "metadata": {},
     "output_type": "execute_result"
    }
   ],
   "source": [
    "X_b"
   ]
  },
  {
   "cell_type": "code",
   "execution_count": 26,
   "metadata": {},
   "outputs": [
    {
     "data": {
      "text/plain": [
       "array([0, 0, 0, 1, 1, 1])"
      ]
     },
     "execution_count": 26,
     "metadata": {},
     "output_type": "execute_result"
    }
   ],
   "source": [
    "X_a"
   ]
  },
  {
   "cell_type": "code",
   "execution_count": null,
   "metadata": {},
   "outputs": [],
   "source": []
  }
 ],
 "metadata": {
  "kernelspec": {
   "display_name": "Python 3",
   "language": "python",
   "name": "python3"
  },
  "language_info": {
   "codemirror_mode": {
    "name": "ipython",
    "version": 3
   },
   "file_extension": ".py",
   "mimetype": "text/x-python",
   "name": "python",
   "nbconvert_exporter": "python",
   "pygments_lexer": "ipython3",
   "version": "3.6.8"
  }
 },
 "nbformat": 4,
 "nbformat_minor": 2
}
